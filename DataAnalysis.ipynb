{
 "cells": [
  {
   "cell_type": "code",
   "execution_count": 2,
   "metadata": {
    "collapsed": false
   },
   "outputs": [],
   "source": [
    "import pandas as pd\n",
    "import seaborn as sns\n",
    "import numpy as np\n",
    "import matplotlib.pyplot as plt\n",
    "import xgboost as xgb\n",
    "\n",
    "from sklearn.linear_model import RidgeCV, LassoCV, Lasso, ElasticNetCV\n",
    "from sklearn.metrics import mean_squared_error\n",
    "from sklearn.model_selection import KFold\n",
    "from sklearn import metrics\n",
    "\n",
    "%matplotlib inline"
   ]
  },
  {
   "cell_type": "markdown",
   "metadata": {
    "collapsed": true
   },
   "source": [
    "# ---------------- 500ms, Perf on Attacked Binary ------------------ "
   ]
  },
  {
   "cell_type": "code",
   "execution_count": 19,
   "metadata": {
    "collapsed": false,
    "scrolled": true
   },
   "outputs": [
    {
     "data": {
      "text/html": [
       "<div>\n",
       "<table border=\"1\" class=\"dataframe\">\n",
       "  <thead>\n",
       "    <tr style=\"text-align: right;\">\n",
       "      <th></th>\n",
       "      <th>Time</th>\n",
       "      <th>Value</th>\n",
       "      <th>Type</th>\n",
       "    </tr>\n",
       "  </thead>\n",
       "  <tbody>\n",
       "    <tr>\n",
       "      <th>0</th>\n",
       "      <td>0.505896</td>\n",
       "      <td>5698587</td>\n",
       "      <td>cache-references</td>\n",
       "    </tr>\n",
       "    <tr>\n",
       "      <th>1</th>\n",
       "      <td>0.505896</td>\n",
       "      <td>1373690</td>\n",
       "      <td>cache-misses</td>\n",
       "    </tr>\n",
       "    <tr>\n",
       "      <th>2</th>\n",
       "      <td>0.505896</td>\n",
       "      <td>314784633</td>\n",
       "      <td>cycles</td>\n",
       "    </tr>\n",
       "    <tr>\n",
       "      <th>3</th>\n",
       "      <td>0.505896</td>\n",
       "      <td>309279292</td>\n",
       "      <td>instructions</td>\n",
       "    </tr>\n",
       "    <tr>\n",
       "      <th>4</th>\n",
       "      <td>0.505896</td>\n",
       "      <td>20824700</td>\n",
       "      <td>branches</td>\n",
       "    </tr>\n",
       "  </tbody>\n",
       "</table>\n",
       "</div>"
      ],
      "text/plain": [
       "       Time      Value              Type\n",
       "0  0.505896    5698587  cache-references\n",
       "1  0.505896    1373690      cache-misses\n",
       "2  0.505896  314784633            cycles\n",
       "3  0.505896  309279292      instructions\n",
       "4  0.505896   20824700          branches"
      ]
     },
     "execution_count": 19,
     "metadata": {},
     "output_type": "execute_result"
    }
   ],
   "source": [
    "adata = pd.read_csv('Data/Attacked/500ms.txt', delim_whitespace=True)\n",
    "adata = adata.drop(adata.columns[3], axis=1)\n",
    "adata = adata.drop(adata.columns[3], axis=1)\n",
    "adata = adata.drop(adata.columns[3], axis=1)\n",
    "adata = adata.drop(adata.columns[3], axis=1)\n",
    "adata = adata.drop(adata.columns[3], axis=1)\n",
    "adata.columns = ['Time', 'Value', 'Type']\n",
    "adata.head()"
   ]
  },
  {
   "cell_type": "code",
   "execution_count": 20,
   "metadata": {
    "collapsed": false
   },
   "outputs": [
    {
     "data": {
      "text/html": [
       "<div>\n",
       "<table border=\"1\" class=\"dataframe\">\n",
       "  <thead>\n",
       "    <tr style=\"text-align: right;\">\n",
       "      <th></th>\n",
       "      <th>Time</th>\n",
       "      <th>Value</th>\n",
       "      <th>Type</th>\n",
       "    </tr>\n",
       "  </thead>\n",
       "  <tbody>\n",
       "    <tr>\n",
       "      <th>2</th>\n",
       "      <td>0.505896</td>\n",
       "      <td>314784633</td>\n",
       "      <td>cycles</td>\n",
       "    </tr>\n",
       "    <tr>\n",
       "      <th>10</th>\n",
       "      <td>1.007363</td>\n",
       "      <td>833474840</td>\n",
       "      <td>cycles</td>\n",
       "    </tr>\n",
       "    <tr>\n",
       "      <th>18</th>\n",
       "      <td>1.508233</td>\n",
       "      <td>1314696599</td>\n",
       "      <td>cycles</td>\n",
       "    </tr>\n",
       "    <tr>\n",
       "      <th>26</th>\n",
       "      <td>2.009226</td>\n",
       "      <td>1367382516</td>\n",
       "      <td>cycles</td>\n",
       "    </tr>\n",
       "    <tr>\n",
       "      <th>34</th>\n",
       "      <td>2.509779</td>\n",
       "      <td>1370115742</td>\n",
       "      <td>cycles</td>\n",
       "    </tr>\n",
       "  </tbody>\n",
       "</table>\n",
       "</div>"
      ],
      "text/plain": [
       "        Time       Value    Type\n",
       "2   0.505896   314784633  cycles\n",
       "10  1.007363   833474840  cycles\n",
       "18  1.508233  1314696599  cycles\n",
       "26  2.009226  1367382516  cycles\n",
       "34  2.509779  1370115742  cycles"
      ]
     },
     "execution_count": 20,
     "metadata": {},
     "output_type": "execute_result"
    }
   ],
   "source": [
    "instructions = adata[adata.Type.isin(['instructions'])]\n",
    "cache_misses = adata[adata.Type.isin(['cache-misses'])]\n",
    "cache_ref = adata[adata.Type.isin(['cache-references'])]\n",
    "page_faults = adata[adata.Type.isin(['faults'])]\n",
    "cycles = adata[adata.Type.isin(['cycles'])]\n",
    "migrations = adata[adata.Type.isin(['migrations'])]\n",
    "branches = adata[adata.Type.isin(['branches'])]\n",
    "context = adata[adata.Type.isin(['context-switches'])]\n",
    "\n",
    "cycles.head()"
   ]
  },
  {
   "cell_type": "code",
   "execution_count": 21,
   "metadata": {
    "collapsed": false
   },
   "outputs": [
    {
     "data": {
      "image/png": "[encoded data removed]",
      "text/plain": [
       "<matplotlib.figure.Figure at 0x111e71510>"
      ]
     },
     "metadata": {},
     "output_type": "display_data"
    },
    {
     "data": {
      "image/png": "[encoded data removed]",
      "text/plain": [
       "<matplotlib.figure.Figure at 0x1122e38d0>"
      ]
     },
     "metadata": {},
     "output_type": "display_data"
    }
   ],
   "source": [
    "plt.scatter(page_faults.Time, page_faults.Value, c='r')\n",
    "plt.xlabel('Time (ms)')\n",
    "plt.ylabel('# of Page Faults')\n",
    "plt.show()\n",
    "\n",
    "plt.hist(page_faults.Value)\n",
    "plt.xlabel('# of Page Faults')\n",
    "plt.ylabel('# of Occurences')\n",
    "plt.show()"
   ]
  },
  {
   "cell_type": "code",
   "execution_count": 22,
   "metadata": {
    "collapsed": false
   },
   "outputs": [
    {
     "name": "stdout",
     "output_type": "stream",
     "text": [
      "Cache miss rate: \n",
      "0.732756636677\n"
     ]
    }
   ],
   "source": [
    "miss_rate = (cache_misses.Value.mean()/cache_ref.Value.mean())\n",
    "print \"Cache miss rate: \" \n",
    "print miss_rate"
   ]
  },
  {
   "cell_type": "markdown",
   "metadata": {
    "collapsed": true
   },
   "source": [
    "# -------------------------Benchmark Data, ZeusMP, 75ms----------------------------"
   ]
  },
  {
   "cell_type": "code",
   "execution_count": 23,
   "metadata": {
    "collapsed": false
   },
   "outputs": [
    {
     "ename": "IOError",
     "evalue": "File Data/Benchmark/500ms_ZeusMP.txt does not exist",
     "output_type": "error",
     "traceback": [
      "\u001b[0;31m---------------------------------------------------------------------------\u001b[0m",
      "\u001b[0;31mIOError\u001b[0m                                   Traceback (most recent call last)",
      "\u001b[0;32m<ipython-input-23-85a771b27a3c>\u001b[0m in \u001b[0;36m<module>\u001b[0;34m()\u001b[0m\n\u001b[0;32m----> 1\u001b[0;31m \u001b[0mdata\u001b[0m \u001b[0;34m=\u001b[0m \u001b[0mpd\u001b[0m\u001b[0;34m.\u001b[0m\u001b[0mread_csv\u001b[0m\u001b[0;34m(\u001b[0m\u001b[0;34m'Data/Benchmark/500ms_ZeusMP.txt'\u001b[0m\u001b[0;34m,\u001b[0m \u001b[0mdelim_whitespace\u001b[0m\u001b[0;34m=\u001b[0m\u001b[0mTrue\u001b[0m\u001b[0;34m)\u001b[0m\u001b[0;34m\u001b[0m\u001b[0m\n\u001b[0m\u001b[1;32m      2\u001b[0m \u001b[0mdata\u001b[0m \u001b[0;34m=\u001b[0m \u001b[0mdata\u001b[0m\u001b[0;34m.\u001b[0m\u001b[0mdrop\u001b[0m\u001b[0;34m(\u001b[0m\u001b[0mdata\u001b[0m\u001b[0;34m.\u001b[0m\u001b[0mcolumns\u001b[0m\u001b[0;34m[\u001b[0m\u001b[0;36m3\u001b[0m\u001b[0;34m]\u001b[0m\u001b[0;34m,\u001b[0m \u001b[0maxis\u001b[0m\u001b[0;34m=\u001b[0m\u001b[0;36m1\u001b[0m\u001b[0;34m)\u001b[0m\u001b[0;34m\u001b[0m\u001b[0m\n\u001b[1;32m      3\u001b[0m \u001b[0mdata\u001b[0m \u001b[0;34m=\u001b[0m \u001b[0mdata\u001b[0m\u001b[0;34m.\u001b[0m\u001b[0mdrop\u001b[0m\u001b[0;34m(\u001b[0m\u001b[0mdata\u001b[0m\u001b[0;34m.\u001b[0m\u001b[0mcolumns\u001b[0m\u001b[0;34m[\u001b[0m\u001b[0;36m3\u001b[0m\u001b[0;34m]\u001b[0m\u001b[0;34m,\u001b[0m \u001b[0maxis\u001b[0m\u001b[0;34m=\u001b[0m\u001b[0;36m1\u001b[0m\u001b[0;34m)\u001b[0m\u001b[0;34m\u001b[0m\u001b[0m\n\u001b[1;32m      4\u001b[0m \u001b[0mdata\u001b[0m \u001b[0;34m=\u001b[0m \u001b[0mdata\u001b[0m\u001b[0;34m.\u001b[0m\u001b[0mdrop\u001b[0m\u001b[0;34m(\u001b[0m\u001b[0mdata\u001b[0m\u001b[0;34m.\u001b[0m\u001b[0mcolumns\u001b[0m\u001b[0;34m[\u001b[0m\u001b[0;36m3\u001b[0m\u001b[0;34m]\u001b[0m\u001b[0;34m,\u001b[0m \u001b[0maxis\u001b[0m\u001b[0;34m=\u001b[0m\u001b[0;36m1\u001b[0m\u001b[0;34m)\u001b[0m\u001b[0;34m\u001b[0m\u001b[0m\n\u001b[1;32m      5\u001b[0m \u001b[0mdata\u001b[0m \u001b[0;34m=\u001b[0m \u001b[0mdata\u001b[0m\u001b[0;34m.\u001b[0m\u001b[0mdrop\u001b[0m\u001b[0;34m(\u001b[0m\u001b[0mdata\u001b[0m\u001b[0;34m.\u001b[0m\u001b[0mcolumns\u001b[0m\u001b[0;34m[\u001b[0m\u001b[0;36m3\u001b[0m\u001b[0;34m]\u001b[0m\u001b[0;34m,\u001b[0m \u001b[0maxis\u001b[0m\u001b[0;34m=\u001b[0m\u001b[0;36m1\u001b[0m\u001b[0;34m)\u001b[0m\u001b[0;34m\u001b[0m\u001b[0m\n",
      "\u001b[0;32m/Users/JamesZhang/anaconda/lib/python2.7/site-packages/pandas/io/parsers.pyc\u001b[0m in \u001b[0;36mparser_f\u001b[0;34m(filepath_or_buffer, sep, delimiter, header, names, index_col, usecols, squeeze, prefix, mangle_dupe_cols, dtype, engine, converters, true_values, false_values, skipinitialspace, skiprows, nrows, na_values, keep_default_na, na_filter, verbose, skip_blank_lines, parse_dates, infer_datetime_format, keep_date_col, date_parser, dayfirst, iterator, chunksize, compression, thousands, decimal, lineterminator, quotechar, quoting, escapechar, comment, encoding, dialect, tupleize_cols, error_bad_lines, warn_bad_lines, skipfooter, skip_footer, doublequote, delim_whitespace, as_recarray, compact_ints, use_unsigned, low_memory, buffer_lines, memory_map, float_precision)\u001b[0m\n\u001b[1;32m    644\u001b[0m                     skip_blank_lines=skip_blank_lines)\n\u001b[1;32m    645\u001b[0m \u001b[0;34m\u001b[0m\u001b[0m\n\u001b[0;32m--> 646\u001b[0;31m         \u001b[0;32mreturn\u001b[0m \u001b[0m_read\u001b[0m\u001b[0;34m(\u001b[0m\u001b[0mfilepath_or_buffer\u001b[0m\u001b[0;34m,\u001b[0m \u001b[0mkwds\u001b[0m\u001b[0;34m)\u001b[0m\u001b[0;34m\u001b[0m\u001b[0m\n\u001b[0m\u001b[1;32m    647\u001b[0m \u001b[0;34m\u001b[0m\u001b[0m\n\u001b[1;32m    648\u001b[0m     \u001b[0mparser_f\u001b[0m\u001b[0;34m.\u001b[0m\u001b[0m__name__\u001b[0m \u001b[0;34m=\u001b[0m \u001b[0mname\u001b[0m\u001b[0;34m\u001b[0m\u001b[0m\n",
      "\u001b[0;32m/Users/JamesZhang/anaconda/lib/python2.7/site-packages/pandas/io/parsers.pyc\u001b[0m in \u001b[0;36m_read\u001b[0;34m(filepath_or_buffer, kwds)\u001b[0m\n\u001b[1;32m    387\u001b[0m \u001b[0;34m\u001b[0m\u001b[0m\n\u001b[1;32m    388\u001b[0m     \u001b[0;31m# Create the parser.\u001b[0m\u001b[0;34m\u001b[0m\u001b[0;34m\u001b[0m\u001b[0m\n\u001b[0;32m--> 389\u001b[0;31m     \u001b[0mparser\u001b[0m \u001b[0;34m=\u001b[0m \u001b[0mTextFileReader\u001b[0m\u001b[0;34m(\u001b[0m\u001b[0mfilepath_or_buffer\u001b[0m\u001b[0;34m,\u001b[0m \u001b[0;34m**\u001b[0m\u001b[0mkwds\u001b[0m\u001b[0;34m)\u001b[0m\u001b[0;34m\u001b[0m\u001b[0m\n\u001b[0m\u001b[1;32m    390\u001b[0m \u001b[0;34m\u001b[0m\u001b[0m\n\u001b[1;32m    391\u001b[0m     \u001b[0;32mif\u001b[0m \u001b[0;34m(\u001b[0m\u001b[0mnrows\u001b[0m \u001b[0;32mis\u001b[0m \u001b[0;32mnot\u001b[0m \u001b[0mNone\u001b[0m\u001b[0;34m)\u001b[0m \u001b[0;32mand\u001b[0m \u001b[0;34m(\u001b[0m\u001b[0mchunksize\u001b[0m \u001b[0;32mis\u001b[0m \u001b[0;32mnot\u001b[0m \u001b[0mNone\u001b[0m\u001b[0;34m)\u001b[0m\u001b[0;34m:\u001b[0m\u001b[0;34m\u001b[0m\u001b[0m\n",
      "\u001b[0;32m/Users/JamesZhang/anaconda/lib/python2.7/site-packages/pandas/io/parsers.pyc\u001b[0m in \u001b[0;36m__init__\u001b[0;34m(self, f, engine, **kwds)\u001b[0m\n\u001b[1;32m    728\u001b[0m             \u001b[0mself\u001b[0m\u001b[0;34m.\u001b[0m\u001b[0moptions\u001b[0m\u001b[0;34m[\u001b[0m\u001b[0;34m'has_index_names'\u001b[0m\u001b[0;34m]\u001b[0m \u001b[0;34m=\u001b[0m \u001b[0mkwds\u001b[0m\u001b[0;34m[\u001b[0m\u001b[0;34m'has_index_names'\u001b[0m\u001b[0;34m]\u001b[0m\u001b[0;34m\u001b[0m\u001b[0m\n\u001b[1;32m    729\u001b[0m \u001b[0;34m\u001b[0m\u001b[0m\n\u001b[0;32m--> 730\u001b[0;31m         \u001b[0mself\u001b[0m\u001b[0;34m.\u001b[0m\u001b[0m_make_engine\u001b[0m\u001b[0;34m(\u001b[0m\u001b[0mself\u001b[0m\u001b[0;34m.\u001b[0m\u001b[0mengine\u001b[0m\u001b[0;34m)\u001b[0m\u001b[0;34m\u001b[0m\u001b[0m\n\u001b[0m\u001b[1;32m    731\u001b[0m \u001b[0;34m\u001b[0m\u001b[0m\n\u001b[1;32m    732\u001b[0m     \u001b[0;32mdef\u001b[0m \u001b[0mclose\u001b[0m\u001b[0;34m(\u001b[0m\u001b[0mself\u001b[0m\u001b[0;34m)\u001b[0m\u001b[0;34m:\u001b[0m\u001b[0;34m\u001b[0m\u001b[0m\n",
      "\u001b[0;32m/Users/JamesZhang/anaconda/lib/python2.7/site-packages/pandas/io/parsers.pyc\u001b[0m in \u001b[0;36m_make_engine\u001b[0;34m(self, engine)\u001b[0m\n\u001b[1;32m    921\u001b[0m     \u001b[0;32mdef\u001b[0m \u001b[0m_make_engine\u001b[0m\u001b[0;34m(\u001b[0m\u001b[0mself\u001b[0m\u001b[0;34m,\u001b[0m \u001b[0mengine\u001b[0m\u001b[0;34m=\u001b[0m\u001b[0;34m'c'\u001b[0m\u001b[0;34m)\u001b[0m\u001b[0;34m:\u001b[0m\u001b[0;34m\u001b[0m\u001b[0m\n\u001b[1;32m    922\u001b[0m         \u001b[0;32mif\u001b[0m \u001b[0mengine\u001b[0m \u001b[0;34m==\u001b[0m \u001b[0;34m'c'\u001b[0m\u001b[0;34m:\u001b[0m\u001b[0;34m\u001b[0m\u001b[0m\n\u001b[0;32m--> 923\u001b[0;31m             \u001b[0mself\u001b[0m\u001b[0;34m.\u001b[0m\u001b[0m_engine\u001b[0m \u001b[0;34m=\u001b[0m \u001b[0mCParserWrapper\u001b[0m\u001b[0;34m(\u001b[0m\u001b[0mself\u001b[0m\u001b[0;34m.\u001b[0m\u001b[0mf\u001b[0m\u001b[0;34m,\u001b[0m \u001b[0;34m**\u001b[0m\u001b[0mself\u001b[0m\u001b[0;34m.\u001b[0m\u001b[0moptions\u001b[0m\u001b[0;34m)\u001b[0m\u001b[0;34m\u001b[0m\u001b[0m\n\u001b[0m\u001b[1;32m    924\u001b[0m         \u001b[0;32melse\u001b[0m\u001b[0;34m:\u001b[0m\u001b[0;34m\u001b[0m\u001b[0m\n\u001b[1;32m    925\u001b[0m             \u001b[0;32mif\u001b[0m \u001b[0mengine\u001b[0m \u001b[0;34m==\u001b[0m \u001b[0;34m'python'\u001b[0m\u001b[0;34m:\u001b[0m\u001b[0;34m\u001b[0m\u001b[0m\n",
      "\u001b[0;32m/Users/JamesZhang/anaconda/lib/python2.7/site-packages/pandas/io/parsers.pyc\u001b[0m in \u001b[0;36m__init__\u001b[0;34m(self, src, **kwds)\u001b[0m\n\u001b[1;32m   1388\u001b[0m         \u001b[0mkwds\u001b[0m\u001b[0;34m[\u001b[0m\u001b[0;34m'allow_leading_cols'\u001b[0m\u001b[0;34m]\u001b[0m \u001b[0;34m=\u001b[0m \u001b[0mself\u001b[0m\u001b[0;34m.\u001b[0m\u001b[0mindex_col\u001b[0m \u001b[0;32mis\u001b[0m \u001b[0;32mnot\u001b[0m \u001b[0mFalse\u001b[0m\u001b[0;34m\u001b[0m\u001b[0m\n\u001b[1;32m   1389\u001b[0m \u001b[0;34m\u001b[0m\u001b[0m\n\u001b[0;32m-> 1390\u001b[0;31m         \u001b[0mself\u001b[0m\u001b[0;34m.\u001b[0m\u001b[0m_reader\u001b[0m \u001b[0;34m=\u001b[0m \u001b[0m_parser\u001b[0m\u001b[0;34m.\u001b[0m\u001b[0mTextReader\u001b[0m\u001b[0;34m(\u001b[0m\u001b[0msrc\u001b[0m\u001b[0;34m,\u001b[0m \u001b[0;34m**\u001b[0m\u001b[0mkwds\u001b[0m\u001b[0;34m)\u001b[0m\u001b[0;34m\u001b[0m\u001b[0m\n\u001b[0m\u001b[1;32m   1391\u001b[0m \u001b[0;34m\u001b[0m\u001b[0m\n\u001b[1;32m   1392\u001b[0m         \u001b[0;31m# XXX\u001b[0m\u001b[0;34m\u001b[0m\u001b[0;34m\u001b[0m\u001b[0m\n",
      "\u001b[0;32mpandas/parser.pyx\u001b[0m in \u001b[0;36mpandas.parser.TextReader.__cinit__ (pandas/parser.c:4184)\u001b[0;34m()\u001b[0m\n",
      "\u001b[0;32mpandas/parser.pyx\u001b[0m in \u001b[0;36mpandas.parser.TextReader._setup_parser_source (pandas/parser.c:8449)\u001b[0;34m()\u001b[0m\n",
      "\u001b[0;31mIOError\u001b[0m: File Data/Benchmark/500ms_ZeusMP.txt does not exist"
     ]
    }
   ],
   "source": [
    "data = pd.read_csv('Data/Benchmark/500ms_ZeusMP.txt', delim_whitespace=True)\n",
    "data = data.drop(data.columns[3], axis=1)\n",
    "data = data.drop(data.columns[3], axis=1)\n",
    "data = data.drop(data.columns[3], axis=1)\n",
    "data = data.drop(data.columns[3], axis=1)\n",
    "data = data.drop(data.columns[3], axis=1)\n",
    "data.columns = ['Time', 'Value', 'Type']"
   ]
  },
  {
   "cell_type": "code",
   "execution_count": null,
   "metadata": {
    "collapsed": true
   },
   "outputs": [],
   "source": [
    "ben_instructions = data[data.Type.isin(['instructions'])]\n",
    "ben_cache_misses = data[data.Type.isin(['cache-misses'])]\n",
    "ben_cache_ref = data[data.Type.isin(['cache-references'])]\n",
    "ben_page_faults = data[data.Type.isin(['faults'])]\n",
    "ben_cycles = data[data.Type.isin(['cycles'])]\n",
    "ben_migrations = data[data.Type.isin(['migrations'])]\n",
    "ben_branches = data[data.Type.isin(['branches'])]\n",
    "ben_context = data[data.Type.isin(['context-switches'])]"
   ]
  },
  {
   "cell_type": "code",
   "execution_count": null,
   "metadata": {
    "collapsed": false
   },
   "outputs": [],
   "source": [
    "plt.scatter(ben_page_faults.Time, ben_page_faults.Value)\n",
    "plt.xlabel('Time (ms)')\n",
    "plt.ylabel('# of Page Faults')\n",
    "plt.show()\n",
    "\n",
    "plt.scatter(ben_page_faults.Time, ben_page_faults.Value)\n",
    "plt.scatter(page_faults.Time, page_faults.Value, c='r')\n",
    "plt.xlabel('Time (ms)')\n",
    "plt.ylabel('# of Page Faults')\n",
    "plt.show()\n",
    "\n",
    "plt.hist(ben_page_faults.Value)\n",
    "plt.xlabel('# of Page Faults')\n",
    "plt.ylabel('# of Occurences')\n",
    "plt.show()"
   ]
  },
  {
   "cell_type": "code",
   "execution_count": null,
   "metadata": {
    "collapsed": false
   },
   "outputs": [],
   "source": [
    "miss_rate = (ben_cache_misses.Value.mean()/ben_cache_ref.Value.mean())\n",
    "miss_std = ben_cache_misses.Value.std()\n",
    "print \"Cache miss rate: \" \n",
    "print miss_rate"
   ]
  },
  {
   "cell_type": "code",
   "execution_count": null,
   "metadata": {
    "collapsed": false
   },
   "outputs": [],
   "source": [
    "plt.scatter(ben_cache_misses.Time, ben_cache_misses.Value)\n",
    "plt.xlabel('Time (ms)')\n",
    "plt.ylabel('# of Cache Misses')\n",
    "plt.show()\n",
    "\n",
    "print \"Mean: \"\n",
    "print ben_cache_misses.Value.mean()\n",
    "print \"STD: \"\n",
    "print ben_cache_misses.Value.std()\n",
    "\n",
    "plt.scatter(cache_misses.Time, cache_misses.Value, c='r')\n",
    "plt.xlabel('Time (ms)')\n",
    "plt.ylabel('# of Cache Misses')\n",
    "plt.show()\n",
    "\n",
    "print \"Mean: \"\n",
    "print cache_misses.Value.mean()\n",
    "print \"STD: \"\n",
    "print cache_misses.Value.std()"
   ]
  },
  {
   "cell_type": "markdown",
   "metadata": {
    "collapsed": true
   },
   "source": [
    "# ----------- Creating a Model ----------------"
   ]
  },
  {
   "cell_type": "code",
   "execution_count": null,
   "metadata": {
    "collapsed": false,
    "scrolled": true
   },
   "outputs": [],
   "source": [
    "# First, we need to preprocess the data\n",
    "instructions.index = range(len(instructions))\n",
    "cache_misses.index = range(len(cache_misses))\n",
    "cache_ref.index = range(len(cache_ref))\n",
    "page_faults.index = range(len(page_faults))\n",
    "cycles.index = range(len(cycles))\n",
    "migrations.index = range(len(migrations))\n",
    "branches.index = range(len(branches))\n",
    "context.index = range(len(context))\n",
    "\n",
    "ben_instructions.index = range(len(ben_instructions))\n",
    "ben_cache_misses.index = range(len(ben_cache_misses))\n",
    "ben_cache_ref.index = range(len(ben_cache_ref))\n",
    "ben_page_faults.index = range(len(ben_page_faults))\n",
    "ben_cycles.index = range(len(ben_cycles))\n",
    "ben_migrations.index = range(len(ben_migrations))\n",
    "ben_branches.index = range(len(ben_branches))\n",
    "ben_context.index = range(len(ben_context))\n",
    "\n",
    "ones = pd.DataFrame(np.ones(len(instructions)))\n",
    "zeros = pd.DataFrame(np.zeros(len(ben_instructions)))\n",
    "\n",
    "attack_data = pd.concat([instructions.Value, cache_misses.Value, cache_ref.Value, page_faults.Value, \n",
    "                        cycles.Value, migrations.Value, branches.Value, context.Value, ones], axis=1)\n",
    "\n",
    "bench_data = pd.concat([ben_instructions.Value, ben_cache_misses.Value, ben_cache_ref.Value, ben_page_faults.Value, \n",
    "                        ben_cycles.Value, ben_migrations.Value, ben_branches.Value, ben_context.Value, zeros], axis=1)\n",
    "\n",
    "total_data = pd.concat([attack_data, bench_data], axis=0)\n",
    "total_data.columns = ['Instructions', 'Cache_misses', 'Cache_references', 'Page_Faults', 'Cycles', 'Migrations', \n",
    "                      'Branches', 'Context', 'Type']\n",
    "total_data = total_data.drop('Migrations', axis=1)\n",
    "\n",
    "# First, we'll shuffle the rows\n",
    "total_data = total_data.sample(frac=1).reset_index(drop=True)\n",
    "total_data"
   ]
  },
  {
   "cell_type": "code",
   "execution_count": null,
   "metadata": {
    "collapsed": false
   },
   "outputs": [],
   "source": [
    "msk = np.random.rand(len(total_data)) < 0.8\n",
    "train = total_data[msk]\n",
    "test = total_data[~msk]\n",
    "\n",
    "X = total_data.ix[:, :7]\n",
    "y = total_data.ix[:, 7]\n",
    "\n",
    "X_train = train.ix[:,:7]\n",
    "y_train = train.ix[:,7]\n",
    "\n",
    "X_test = test.ix[:,:7]\n",
    "y_test = test.ix[:,7]"
   ]
  },
  {
   "cell_type": "code",
   "execution_count": null,
   "metadata": {
    "collapsed": false,
    "scrolled": true
   },
   "outputs": [],
   "source": [
    "model_ridge = RidgeCV(alphas=[0.05, 0.1, 0.3, 1, 3, 5, 10, 15, 30, 50, 75]).fit(X_train, y_train)\n",
    "pred = model_ridge.predict(X_test)\n",
    "\n",
    "pred_norm = (pred - pred.mean()) / (pred.max() - pred.min())\n",
    "pred_norm = pred_norm - pred_norm.min()"
   ]
  },
  {
   "cell_type": "code",
   "execution_count": null,
   "metadata": {
    "collapsed": false
   },
   "outputs": [],
   "source": [
    "plt.scatter(range(0,len(X_test)), y_test)\n",
    "plt.scatter(range(0,len(X_test)), pred_norm, c='r')\n",
    "plt.show()"
   ]
  },
  {
   "cell_type": "code",
   "execution_count": null,
   "metadata": {
    "collapsed": false
   },
   "outputs": [],
   "source": [
    "ridge_score = -cross_val_score(model_ridge, X_train, y_train, scoring=\"mean_squared_error\")\n",
    "print(\"Ridge Best RMSE: {}\".format(np.sqrt(ridge_score).mean()))"
   ]
  },
  {
   "cell_type": "code",
   "execution_count": null,
   "metadata": {
    "collapsed": false,
    "scrolled": true
   },
   "outputs": [],
   "source": [
    "model_lasso = LassoCV(alphas= [0.05, 0.1, 0.3, 1, 3, 5, 10, 15, 30, 50, 75]).fit(X_train, y_train)\n",
    "pred = model_lasso.predict(X_test)\n",
    "\n",
    "pred_norm = (pred - pred.mean()) / (pred.max() - pred.min())\n",
    "pred_norm = pred_norm - pred_norm.min()\n",
    "pred_norm"
   ]
  },
  {
   "cell_type": "code",
   "execution_count": null,
   "metadata": {
    "collapsed": false
   },
   "outputs": [],
   "source": [
    "plt.scatter(range(0,20), y_test.ix[:20,:])\n",
    "plt.scatter(range(0,20), pred_norm.ix[:20,:], c='r')\n",
    "plt.show()"
   ]
  },
  {
   "cell_type": "code",
   "execution_count": null,
   "metadata": {
    "collapsed": false
   },
   "outputs": [],
   "source": [
    "lasso_score = -cross_val_score(model_lasso, X, y, scoring=\"mean_squared_error\")\n",
    "print(\"Lasso Best RMSE: {}\".format(np.sqrt(lasso_score).mean()))"
   ]
  },
  {
   "cell_type": "markdown",
   "metadata": {},
   "source": [
    "# K-Fold Cross Validations"
   ]
  },
  {
   "cell_type": "code",
   "execution_count": null,
   "metadata": {
    "collapsed": false
   },
   "outputs": [],
   "source": [
    "# Let's use K-Fold Cross Validation\n",
    "\n",
    "X = total_data.ix[:, :7]\n",
    "y = total_data.ix[:, 7]"
   ]
  },
  {
   "cell_type": "code",
   "execution_count": null,
   "metadata": {
    "collapsed": false,
    "scrolled": false
   },
   "outputs": [],
   "source": [
    "kf = KFold(n_splits=4)\n",
    "total_score = 0\n",
    "\n",
    "for train_index, test_index in kf.split(X):\n",
    "    X_train, X_test = X.iloc[train_index], X.iloc[test_index]\n",
    "    y_train, y_test = y.iloc[train_index], y.iloc[test_index]\n",
    "    model_lasso = LassoCV(alphas=[0.05, 0.1, 0.3, 1, 3, 5, 10, 15, 30, 50, 75]).fit(X_train, y_train)\n",
    "    \n",
    "    pred = model_lasso.predict(X_test)\n",
    "    pred_norm = (pred - pred.mean()) / (pred.max() - pred.min())\n",
    "    pred_norm = pred_norm - pred_norm.min()\n",
    "\n",
    "    plt.scatter(range(0,len(X_test)), y_test)\n",
    "    plt.scatter(range(0,len(X_test)), pred_norm, c='r')\n",
    "    plt.show()\n",
    "    \n",
    "    lasso_score = -cross_val_score(model_lasso, X_test, y_test, scoring=\"mean_squared_error\")\n",
    "    print(\"Lasso Best RMSE: {}\".format(np.sqrt(lasso_score).mean()))\n",
    "    total_score += np.sqrt(lasso_score.mean())\n",
    "    \n",
    "total_score /= 4\n",
    "print \"Average score: \" \n",
    "print total_score"
   ]
  },
  {
   "cell_type": "code",
   "execution_count": null,
   "metadata": {
    "collapsed": false,
    "scrolled": true
   },
   "outputs": [],
   "source": [
    "# Let's feature engineer the Page Faults, which should be the main feature\n",
    "\n",
    "total_data1 = total_data\n",
    "total_data1['Page_Faults'] = total_data['Page_Faults']**2\n",
    "\n",
    "X = total_data1.ix[:, :7]\n",
    "y = total_data1.ix[:, 7]\n",
    "\n",
    "total_data"
   ]
  },
  {
   "cell_type": "code",
   "execution_count": null,
   "metadata": {
    "collapsed": false,
    "scrolled": false
   },
   "outputs": [],
   "source": [
    "total_score = 0\n",
    "\n",
    "for train_index, test_index in kf.split(X):\n",
    "    X_train, X_test = X.iloc[train_index], X.iloc[test_index]\n",
    "    y_train, y_test = y.iloc[train_index], y.iloc[test_index]\n",
    "    model_lasso = LassoCV(alphas=[0.05, 0.1, 0.3, 1, 3, 5, 10, 15, 30, 50, 75]).fit(X_train, y_train)\n",
    "    \n",
    "    pred = model_lasso.predict(X_test)\n",
    "    pred_norm = (pred - pred.mean()) / (pred.max() - pred.min())\n",
    "    pred_norm = pred_norm - pred_norm.min()\n",
    "\n",
    "    plt.scatter(range(0,len(X_test)), y_test)\n",
    "    plt.scatter(range(0,len(X_test)), pred_norm, c='r')\n",
    "    plt.show()\n",
    "    \n",
    "    lasso_score = -cross_val_score(model_lasso, X_test, y_test, scoring=\"mean_squared_error\")\n",
    "    print(\"Lasso Best RMSE: {}\".format(np.sqrt(lasso_score).mean()))\n",
    "    total_score += np.sqrt(lasso_score.mean())\n",
    "    \n",
    "total_score /= 4\n",
    "print \"\"\n",
    "print \"Average score: \" \n",
    "print total_score"
   ]
  },
  {
   "cell_type": "code",
   "execution_count": null,
   "metadata": {
    "collapsed": false,
    "scrolled": true
   },
   "outputs": [],
   "source": [
    "# Let's also add a category if there are no page faults\n",
    "\n",
    "bool_col = total_data['Page_Faults'] > 0\n",
    "total_data1['page_bool'] = np.where(bool_col, 1, 0)\n",
    "\n",
    "cols = total_data1.columns.tolist()\n",
    "cols = cols[-1:] + cols[:-1]\n",
    "total_data2 = total_data1[cols]\n",
    "\n",
    "X = total_data2.ix[:, :8]\n",
    "y = total_data2.ix[:, 8]\n",
    "\n",
    "total_data2"
   ]
  },
  {
   "cell_type": "code",
   "execution_count": null,
   "metadata": {
    "collapsed": false,
    "scrolled": false
   },
   "outputs": [],
   "source": [
    "total_score = 0\n",
    "\n",
    "for train_index, test_index in kf.split(X):\n",
    "    X_train, X_test = X.iloc[train_index], X.iloc[test_index]\n",
    "    y_train, y_test = y.iloc[train_index], y.iloc[test_index]\n",
    "    model_lasso = LassoCV(alphas=[0.05, 0.1, 0.3, 1, 3, 5, 10, 15, 30, 50, 75]).fit(X_train, y_train)\n",
    "    \n",
    "    pred = model_lasso.predict(X_test)\n",
    "    pred_norm = (pred - pred.mean()) / (pred.max() - pred.min())\n",
    "    pred_norm = pred_norm - pred_norm.min()\n",
    "\n",
    "    plt.scatter(range(0,len(X_test)), y_test)\n",
    "    plt.scatter(range(0,len(X_test)), pred_norm, c='r')\n",
    "    plt.show()\n",
    "    \n",
    "    lasso_score = -cross_val_score(model_lasso, X_test, y_test, scoring=\"mean_squared_error\")\n",
    "    print(\"Lasso Best RMSE: {}\".format(np.sqrt(lasso_score).mean()))\n",
    "    total_score += np.sqrt(lasso_score.mean())\n",
    "    \n",
    "total_score /= 4\n",
    "print \"\"\n",
    "print \"Average score: \" \n",
    "print total_score"
   ]
  },
  {
   "cell_type": "code",
   "execution_count": null,
   "metadata": {
    "collapsed": false
   },
   "outputs": [],
   "source": [
    "X = total_data1.ix[:, :7]\n",
    "y = total_data1.ix[:, 7]"
   ]
  },
  {
   "cell_type": "code",
   "execution_count": null,
   "metadata": {
    "collapsed": false,
    "scrolled": false
   },
   "outputs": [],
   "source": [
    "total_score = 0\n",
    "\n",
    "for train_index, test_index in kf.split(X):\n",
    "    X_train, X_test = X.iloc[train_index], X.iloc[test_index]\n",
    "    y_train, y_test = y.iloc[train_index], y.iloc[test_index]\n",
    "    model_net = ElasticNetCV(l1_ratio=[.1, .5, .7, .9, .95, .99, 1], alphas=[0.05, 0.1, 0.3, 1, 3, 5, 10, 15, 30, 50, 75]).fit(X_train, y_train)\n",
    "    \n",
    "    pred = model_net.predict(X_test)\n",
    "    pred_norm = (pred - pred.mean()) / (pred.max() - pred.min())\n",
    "    pred_norm = pred_norm - pred_norm.min()\n",
    "\n",
    "    plt.scatter(range(0,len(X_test)), y_test)\n",
    "    plt.scatter(range(0,len(X_test)), pred_norm, c='r')\n",
    "    plt.show()\n",
    "    \n",
    "    net_score = -cross_val_score(model_net, X_test, y_test, scoring=\"mean_squared_error\")\n",
    "    print(\"Elastic Net Best RMSE: {}\".format(np.sqrt(net_score).mean()))\n",
    "    total_score += np.sqrt(net_score.mean())\n",
    "    \n",
    "total_score /= 4\n",
    "print \"\"\n",
    "print \"Average score: \" \n",
    "print total_score"
   ]
  },
  {
   "cell_type": "code",
   "execution_count": null,
   "metadata": {
    "collapsed": true
   },
   "outputs": [],
   "source": [
    "X = total_data1.ix[:, :7]\n",
    "y = total_data1.ix[:, 7]"
   ]
  },
  {
   "cell_type": "code",
   "execution_count": null,
   "metadata": {
    "collapsed": false,
    "scrolled": false
   },
   "outputs": [],
   "source": [
    "total_score = 0\n",
    "\n",
    "for train_index, test_index in kf.split(X):\n",
    "    X_train, X_test = X.iloc[train_index], X.iloc[test_index]\n",
    "    y_train, y_test = y.iloc[train_index], y.iloc[test_index]\n",
    "    model = RidgeCV(alphas=[0.05, 0.1, 0.3, 1, 3, 5, 10, 15, 30, 50, 75]).fit(X_train, y_train)\n",
    "    \n",
    "    pred = model.predict(X_test)\n",
    "    pred_norm = (pred - pred.mean()) / (pred.max() - pred.min())\n",
    "    pred_norm = pred_norm - pred_norm.min()\n",
    "\n",
    "    plt.scatter(range(0,len(X_test)), y_test)\n",
    "    plt.scatter(range(0,len(X_test)), pred_norm, c='r')\n",
    "    plt.show()\n",
    "    \n",
    "    score = -cross_val_score(model, X_test, y_test, scoring=\"mean_squared_error\")\n",
    "    print(\"Ridge Best RMSE: {}\".format(np.sqrt(score).mean()))\n",
    "    total_score += np.sqrt(score.mean())\n",
    "    \n",
    "total_score /= 4\n",
    "print \"\"\n",
    "print \"Average score: \" \n",
    "print total_score"
   ]
  },
  {
   "cell_type": "markdown",
   "metadata": {
    "collapsed": true
   },
   "source": [
    "# ------------ Final VM DATA ---------------"
   ]
  },
  {
   "cell_type": "code",
   "execution_count": 202,
   "metadata": {
    "collapsed": false
   },
   "outputs": [
    {
     "data": {
      "text/html": [
       "<div>\n",
       "<table border=\"1\" class=\"dataframe\">\n",
       "  <thead>\n",
       "    <tr style=\"text-align: right;\">\n",
       "      <th></th>\n",
       "      <th>Time</th>\n",
       "      <th>Value</th>\n",
       "      <th>Type</th>\n",
       "    </tr>\n",
       "  </thead>\n",
       "  <tbody>\n",
       "    <tr>\n",
       "      <th>0</th>\n",
       "      <td>0.500938</td>\n",
       "      <td>3150986</td>\n",
       "      <td>L1-dcache-store-misses</td>\n",
       "    </tr>\n",
       "    <tr>\n",
       "      <th>1</th>\n",
       "      <td>0.500938</td>\n",
       "      <td>0</td>\n",
       "      <td>L1-dcache-prefetch-misses</td>\n",
       "    </tr>\n",
       "    <tr>\n",
       "      <th>2</th>\n",
       "      <td>0.500938</td>\n",
       "      <td>3121441</td>\n",
       "      <td>L1-icache-load-misses</td>\n",
       "    </tr>\n",
       "    <tr>\n",
       "      <th>3</th>\n",
       "      <td>1.001436</td>\n",
       "      <td>802859</td>\n",
       "      <td>L1-dcache-store-misses</td>\n",
       "    </tr>\n",
       "    <tr>\n",
       "      <th>4</th>\n",
       "      <td>1.001436</td>\n",
       "      <td>0</td>\n",
       "      <td>L1-dcache-prefetch-misses</td>\n",
       "    </tr>\n",
       "  </tbody>\n",
       "</table>\n",
       "</div>"
      ],
      "text/plain": [
       "       Time    Value                       Type\n",
       "0  0.500938  3150986     L1-dcache-store-misses\n",
       "1  0.500938        0  L1-dcache-prefetch-misses\n",
       "2  0.500938  3121441      L1-icache-load-misses\n",
       "3  1.001436   802859     L1-dcache-store-misses\n",
       "4  1.001436        0  L1-dcache-prefetch-misses"
      ]
     },
     "execution_count": 202,
     "metadata": {},
     "output_type": "execute_result"
    }
   ],
   "source": [
    "adata1 = pd.read_csv('Data/Attacked/flush_reload_1_out.txt', delim_whitespace=True)\n",
    "adata1 = adata1.drop(adata1.columns[3], axis=1)\n",
    "adata1 = adata1.drop(adata1.columns[3], axis=1)\n",
    "adata1 = adata1.drop(adata1.columns[3], axis=1)\n",
    "adata1 = adata1.drop(adata1.columns[3], axis=1)\n",
    "adata1 = adata1.drop(adata1.columns[3], axis=1)\n",
    "adata1.columns = ['Time', 'Value', 'Type']\n",
    "\n",
    "adata2 = pd.read_csv('Data/Attacked/flush_reload_2_out.txt', delim_whitespace=True)\n",
    "adata2 = adata2.drop(adata2.columns[3], axis=1)\n",
    "adata2 = adata2.drop(adata2.columns[3], axis=1)\n",
    "adata2 = adata2.drop(adata2.columns[3], axis=1)\n",
    "adata2 = adata2.drop(adata2.columns[3], axis=1)\n",
    "adata2 = adata2.drop(adata2.columns[3], axis=1)\n",
    "adata2.columns = ['Time', 'Value', 'Type']\n",
    "\n",
    "adata3 = pd.read_csv('Data/Attacked/flush_reload_3_out.txt', delim_whitespace=True)\n",
    "adata3 = adata3.drop(adata3.columns[3], axis=1)\n",
    "adata3 = adata3.drop(adata3.columns[3], axis=1)\n",
    "adata3 = adata3.drop(adata3.columns[3], axis=1)\n",
    "adata3 = adata3.drop(adata3.columns[3], axis=1)\n",
    "adata3 = adata3.drop(adata3.columns[3], axis=1)\n",
    "adata3.columns = ['Time', 'Value', 'Type']\n",
    "\n",
    "adata3.head()"
   ]
  },
  {
   "cell_type": "code",
   "execution_count": 203,
   "metadata": {
    "collapsed": false
   },
   "outputs": [],
   "source": [
    "atotal = np.vstack([adata1, adata2, adata3])\n",
    "\n",
    "ar412e = adata1[adata1.Type.isin(['r412e'])].reset_index(drop=True)\n",
    "ar4f2e = adata1[adata1.Type.isin(['r4f2e'])].reset_index(drop=True)\n",
    "abranchloads = adata1[adata1.Type.isin(['branch-loads'])].reset_index(drop=True)\n",
    "abranchmisses = adata1[adata1.Type.isin(['branch-load-misses'])].reset_index(drop=True)\n",
    "afaults = adata1[adata1.Type.isin(['faults'])].reset_index(drop=True)\n",
    "adtlbload = adata2[adata2.Type.isin(['dTLB-load-misses'])].reset_index(drop=True)\n",
    "adtlbstore = adata2[adata2.Type.isin(['dTLB-store-misses'])].reset_index(drop=True)\n",
    "al1load = adata2[adata2.Type.isin(['L1-dcache-load-misses'])].reset_index(drop=True)\n",
    "al1store = adata3[adata3.Type.isin(['L1-dcache-store-misses'])].reset_index(drop=True)\n",
    "al1prefetch = adata3[adata3.Type.isin(['L1-dcache-prefetch-misses'])].reset_index(drop=True)\n",
    "al1icacheload = adata3[adata3.Type.isin(['L1-icache-load-misses'])].reset_index(drop=True)"
   ]
  },
  {
   "cell_type": "code",
   "execution_count": 204,
   "metadata": {
    "collapsed": false
   },
   "outputs": [],
   "source": [
    "data1 = pd.read_csv('Data/Benchmark/gobmk_1.txt', delim_whitespace=True)\n",
    "data1 = data1.drop(data1.columns[3], axis=1)\n",
    "data1 = data1.drop(data1.columns[3], axis=1)\n",
    "data1 = data1.drop(data1.columns[3], axis=1)\n",
    "data1 = data1.drop(data1.columns[3], axis=1)\n",
    "data1 = data1.drop(data1.columns[3], axis=1)\n",
    "data1.columns = ['Time', 'Value', 'Type']\n",
    "\n",
    "data2 = pd.read_csv('Data/Benchmark/gobmk_2.txt', delim_whitespace=True)\n",
    "data2 = data2.drop(data2.columns[3], axis=1)\n",
    "data2 = data2.drop(data2.columns[3], axis=1)\n",
    "data2 = data2.drop(data2.columns[3], axis=1)\n",
    "data2 = data2.drop(data2.columns[3], axis=1)\n",
    "data2 = data2.drop(data2.columns[3], axis=1)\n",
    "data2.columns = ['Time', 'Value', 'Type']\n",
    "\n",
    "data3 = pd.read_csv('Data/Benchmark/gobmk_3.txt', delim_whitespace=True)\n",
    "data3 = data3.drop(data3.columns[3], axis=1)\n",
    "data3 = data3.drop(data3.columns[3], axis=1)\n",
    "data3 = data3.drop(data3.columns[3], axis=1)\n",
    "data3 = data3.drop(data3.columns[3], axis=1)\n",
    "data3 = data3.drop(data3.columns[3], axis=1)\n",
    "data3.columns = ['Time', 'Value', 'Type']"
   ]
  },
  {
   "cell_type": "code",
   "execution_count": 205,
   "metadata": {
    "collapsed": false
   },
   "outputs": [
    {
     "name": "stdout",
     "output_type": "stream",
     "text": [
      "(1757, 3)\n",
      "(1757, 3)\n",
      "(1757, 3)\n",
      "(1757, 3)\n",
      "(1757, 3)\n",
      "(1757, 3)\n",
      "(1757, 3)\n",
      "(1757, 3)\n",
      "(1757, 3)\n",
      "(1757, 3)\n",
      "(1757, 3)\n"
     ]
    }
   ],
   "source": [
    "total = np.vstack([data1, data2, data3])\n",
    "\n",
    "r412e = data1[data1.Type.isin(['r412e'])].reset_index(drop=True)\n",
    "r4f2e = data1[data1.Type.isin(['r4f2e'])].reset_index(drop=True)\n",
    "branchloads = data1[data1.Type.isin(['branch-loads'])].reset_index(drop=True)\n",
    "branchmisses = data1[data1.Type.isin(['branch-load-misses'])].reset_index(drop=True)\n",
    "faults = data1[data1.Type.isin(['faults'])].reset_index(drop=True)\n",
    "dtlbload = data3[data3.Type.isin(['dTLB-load-misses'])].reset_index(drop=True)\n",
    "dtlbstore = data3[data3.Type.isin(['dTLB-store-misses'])].reset_index(drop=True)\n",
    "l1load = data3[data3.Type.isin(['L1-dcache-load-misses'])].reset_index(drop=True)\n",
    "l1store = data2[data2.Type.isin(['L1-dcache-store-misses'])].reset_index(drop=True)\n",
    "l1prefetch = data2[data2.Type.isin(['L1-dcache-prefetch-misses'])].reset_index(drop=True)\n",
    "l1icacheload = data2[data2.Type.isin(['L1-icache-load-misses'])].reset_index(drop=True)\n",
    "\n",
    "r412e = r412e.ix[range(0, 1757),:]\n",
    "r4f2e = r4f2e.ix[range(0, 1757),:]\n",
    "branchloads = branchloads.ix[range(0, 1757),:]\n",
    "branchmisses = branchmisses.ix[range(0, 1757),:]\n",
    "faults = faults.ix[range(0, 1757),:]\n",
    "dtlbload = dtlbload.ix[range(0, 1757),:]\n",
    "dtlbstore = dtlbstore.ix[range(0, 1757),:]\n",
    "l1load = l1load.ix[range(0, 1757),:]\n",
    "l1store = l1store.ix[range(0, 1757),:]\n",
    "l1prefetch = l1prefetch.ix[range(0, 1757),:]\n",
    "l1icacheload = l1icacheload.ix[range(0, 1757),:]\n",
    "\n",
    "print r412e.shape\n",
    "print r4f2e.shape\n",
    "print branchloads.shape\n",
    "print branchmisses.shape\n",
    "print faults.shape\n",
    "print dtlbload.shape\n",
    "print dtlbstore.shape\n",
    "print l1load.shape\n",
    "print l1store.shape\n",
    "print l1prefetch.shape\n",
    "print l1icacheload.shape"
   ]
  },
  {
   "cell_type": "code",
   "execution_count": 206,
   "metadata": {
    "collapsed": false,
    "scrolled": false
   },
   "outputs": [
    {
     "name": "stdout",
     "output_type": "stream",
     "text": [
      "(1803, 3)\n",
      "(1803, 3)\n",
      "(1803, 3)\n",
      "(1803, 3)\n",
      "(1803, 3)\n",
      "(1803, 3)\n",
      "(1803, 3)\n",
      "(1803, 3)\n",
      "(1803, 3)\n",
      "(1803, 3)\n",
      "(1803, 3)\n"
     ]
    }
   ],
   "source": [
    "ar412e = ar412e.ix[range(0, 1803),:]\n",
    "ar4f2e = ar4f2e.ix[range(0, 1803),:]\n",
    "abranchloads = abranchloads.ix[range(0, 1803),:]\n",
    "abranchmisses = abranchmisses.ix[range(0, 1803),:]\n",
    "afaults = afaults.ix[range(0, 1803),:]\n",
    "adtlbload = adtlbload.ix[range(0, 1803),:]\n",
    "adtlbstore = adtlbstore.ix[range(0, 1803),:]\n",
    "al1load = al1load.ix[range(0, 1803),:]\n",
    "al1store = al1store.ix[range(0, 1803),:]\n",
    "al1prefetch = al1prefetch.ix[range(0, 1803),:]\n",
    "al1icacheload = al1icacheload.ix[range(0, 1803),:]\n",
    "\n",
    "print ar412e.shape\n",
    "print ar4f2e.shape\n",
    "print abranchloads.shape\n",
    "print abranchmisses.shape\n",
    "print afaults.shape\n",
    "print adtlbload.shape\n",
    "print adtlbstore.shape\n",
    "print al1load.shape\n",
    "print al1store.shape\n",
    "print al1prefetch.shape\n",
    "print al1icacheload.shape"
   ]
  },
  {
   "cell_type": "code",
   "execution_count": 207,
   "metadata": {
    "collapsed": false,
    "scrolled": false
   },
   "outputs": [],
   "source": [
    "# Let's combine the features into full data sets\n",
    "\n",
    "r412e.index = range(len(r412e))\n",
    "r4f2e.index = range(len(r4f2e))\n",
    "branchloads.index = range(len(branchloads))\n",
    "branchmisses.index = range(len(branchmisses))\n",
    "faults.index = range(len(faults))\n",
    "dtlbload.index = range(len(dtlbload))\n",
    "dtlbstore.index = range(len(dtlbstore))\n",
    "l1load.index = range(len(l1load))\n",
    "l1store.index = range(len(l1store))\n",
    "l1prefetch.index = range(len(l1prefetch))\n",
    "l1icacheload.index = range(len(l1icacheload))\n",
    "\n",
    "ar412e.index = range(len(ar412e))\n",
    "ar4f2e.index = range(len(ar4f2e))\n",
    "abranchloads.index = range(len(abranchloads))\n",
    "abranchmisses.index = range(len(abranchmisses))\n",
    "afaults.index = range(len(afaults))\n",
    "adtlbload.index = range(len(adtlbload))\n",
    "adtlbstore.index = range(len(adtlbstore))\n",
    "al1load.index = range(len(al1load))\n",
    "al1store.index = range(len(al1store))\n",
    "al1prefetch.index = range(len(al1prefetch))\n",
    "al1icacheload.index = range(len(al1icacheload))\n",
    "\n",
    "ones = pd.DataFrame(np.ones(len(ar412e)))\n",
    "zeros = pd.DataFrame(np.zeros(len(r412e)))\n",
    "\n",
    "bench_data = pd.concat([r412e.Value, r4f2e.Value, branchloads.Value, branchmisses.Value, \n",
    "                        faults.Value, dtlbload.Value, dtlbstore.Value, l1load.Value, l1store.Value, l1prefetch.Value,\n",
    "                        l1icacheload.Value, zeros], axis=1)\n",
    "bench_data.columns = ['r412e', 'r4f2e', 'branchloads', 'branchmisses', 'faults', 'dtlb_load_misses', \n",
    "                      'dtlb_store_misses', 'l1_dcache_load_misses', 'l1_dcache_store_misses', \n",
    "                      'l1_dcache_prefetch_misses', 'l1_icache_load_misses', 'type']\n",
    "bench_data = bench_data.drop('l1_dcache_prefetch_misses', axis=1)\n",
    "\n",
    "attack_data = pd.concat([ar412e.Value, ar4f2e.Value, abranchloads.Value, abranchmisses.Value, \n",
    "                        afaults.Value, adtlbload.Value, adtlbstore.Value, al1load.Value, al1store.Value, \n",
    "                        al1prefetch.Value, al1icacheload.Value, ones], axis=1)\n",
    "attack_data.columns = ['r412e', 'r4f2e', 'branchloads', 'branchmisses', 'faults', 'dtlb_load_misses', \n",
    "                      'dtlb_store_misses', 'l1_dcache_load_misses', 'l1_dcache_store_misses', \n",
    "                      'l1_dcache_prefetch_misses', 'l1_icache_load_misses', 'type']\n",
    "attack_data = attack_data.drop('l1_dcache_prefetch_misses', axis=1)\n",
    "\n",
    "total_data = pd.concat([attack_data, bench_data], axis=0)\n",
    "total_data.columns = ['r412e', 'r4f2e', 'branchloads', 'branchmisses', 'faults', 'dtlb_load_misses', \n",
    "                      'dtlb_store_misses', 'l1_dcache_load_misses', 'l1_dcache_store_misses', \n",
    "                      'l1_icache_load_misses', 'type']\n",
    "\n",
    "# First, we'll shuffle the rows\n",
    "total_data\n",
    "total_data = total_data.sample(frac=1)"
   ]
  },
  {
   "cell_type": "code",
   "execution_count": 208,
   "metadata": {
    "collapsed": false
   },
   "outputs": [],
   "source": [
    "msk = np.random.rand(len(total_data)) < 0.8\n",
    "train = total_data[msk].reset_index(drop=True)\n",
    "test = total_data[~msk].reset_index(drop=True)\n",
    "\n",
    "X_train = train.ix[:,0:10]\n",
    "y_train = train.ix[:,10]\n",
    "\n",
    "X_test = test.ix[:,0:10]\n",
    "y_test = test.ix[:,10]\n",
    "\n",
    "X_train = X_train.astype(np.int64)\n",
    "X_test = X_test.astype(np.int64)"
   ]
  },
  {
   "cell_type": "code",
   "execution_count": 1,
   "metadata": {
    "collapsed": false,
    "scrolled": true
   },
   "outputs": [
    {
     "ename": "NameError",
     "evalue": "name 'xgb' is not defined",
     "output_type": "error",
     "traceback": [
      "\u001b[0;31m---------------------------------------------------------------------------\u001b[0m",
      "\u001b[0;31mNameError\u001b[0m                                 Traceback (most recent call last)",
      "\u001b[0;32m<ipython-input-1-256edb3e836a>\u001b[0m in \u001b[0;36m<module>\u001b[0;34m()\u001b[0m\n\u001b[0;32m----> 1\u001b[0;31m \u001b[0mxgbmodel\u001b[0m \u001b[0;34m=\u001b[0m \u001b[0mxgb\u001b[0m\u001b[0;34m.\u001b[0m\u001b[0mXGBClassifier\u001b[0m\u001b[0;34m(\u001b[0m\u001b[0;34m)\u001b[0m\u001b[0;34m\u001b[0m\u001b[0m\n\u001b[0m\u001b[1;32m      2\u001b[0m \u001b[0mxgbmodel\u001b[0m\u001b[0;34m.\u001b[0m\u001b[0mfit\u001b[0m\u001b[0;34m(\u001b[0m\u001b[0mX_train\u001b[0m\u001b[0;34m,\u001b[0m\u001b[0my_train\u001b[0m\u001b[0;34m)\u001b[0m\u001b[0;34m\u001b[0m\u001b[0m\n\u001b[1;32m      3\u001b[0m \u001b[0;34m\u001b[0m\u001b[0m\n\u001b[1;32m      4\u001b[0m \u001b[0mpred_prob\u001b[0m \u001b[0;34m=\u001b[0m \u001b[0mxgbmodel\u001b[0m\u001b[0;34m.\u001b[0m\u001b[0mpredict_proba\u001b[0m\u001b[0;34m(\u001b[0m\u001b[0mX_test\u001b[0m\u001b[0;34m)\u001b[0m\u001b[0;34m\u001b[0m\u001b[0m\n\u001b[1;32m      5\u001b[0m \u001b[0mpred_prob\u001b[0m \u001b[0;34m=\u001b[0m \u001b[0mpred_prob\u001b[0m\u001b[0;34m[\u001b[0m\u001b[0;34m:\u001b[0m\u001b[0;34m,\u001b[0m\u001b[0;36m1\u001b[0m\u001b[0;34m]\u001b[0m\u001b[0;34m\u001b[0m\u001b[0m\n",
      "\u001b[0;31mNameError\u001b[0m: name 'xgb' is not defined"
     ]
    }
   ],
   "source": [
    "xgbmodel = xgb.XGBClassifier()\n",
    "xgbmodel.fit(X_train,y_train)\n",
    "\n",
    "pred_prob = xgbmodel.predict_proba(X_test)\n",
    "pred_prob = pred_prob[:,1]\n",
    "\n",
    "score = mean_squared_error(y_test, pred_prob)\n",
    "print(\"XGBoost Probabilityy Best RMSE: {}\".format(np.sqrt(score).mean()))"
   ]
  },
  {
   "cell_type": "code",
   "execution_count": 210,
   "metadata": {
    "collapsed": false
   },
   "outputs": [
    {
     "data": {
      "image/png": "[encoded data removed]",
      "text/plain": [
       "<matplotlib.figure.Figure at 0x116115290>"
      ]
     },
     "metadata": {},
     "output_type": "display_data"
    }
   ],
   "source": [
    "plt.figure()\n",
    "plt.scatter(range(0,len(pred_prob)), pred_prob, c='r')\n",
    "plt.show()"
   ]
  },
  {
   "cell_type": "code",
   "execution_count": 211,
   "metadata": {
    "collapsed": false
   },
   "outputs": [
    {
     "name": "stdout",
     "output_type": "stream",
     "text": [
      "XGBoost Probablitiy Best RMSE: 0.0\n",
      "Accuracy : 1\n"
     ]
    }
   ],
   "source": [
    "pred = xgbmodel.predict(X_test)\n",
    "score = mean_squared_error(y_test, pred)\n",
    "\n",
    "print(\"XGBoost Probablitiy Best RMSE: {}\".format(np.sqrt(score).mean()))\n",
    "print \"Accuracy : %.4g\" % metrics.accuracy_score(y_test.values, pred)"
   ]
  },
  {
   "cell_type": "code",
   "execution_count": 212,
   "metadata": {
    "collapsed": false,
    "scrolled": false
   },
   "outputs": [
    {
     "data": {
      "image/png": "[encoded data removed]",
      "text/plain": [
       "<matplotlib.figure.Figure at 0x11236af10>"
      ]
     },
     "metadata": {},
     "output_type": "display_data"
    },
    {
     "data": {
      "image/png": "[encoded data removed]",
      "text/plain": [
       "<matplotlib.figure.Figure at 0x1179b05d0>"
      ]
     },
     "metadata": {},
     "output_type": "display_data"
    }
   ],
   "source": [
    "plt.figure()\n",
    "plt.scatter(range(0,50), y_test[0:50])\n",
    "plt.ylabel('Type of Data')\n",
    "plt.xlabel('Sample Number')\n",
    "plt.title('Actual Data Type')\n",
    "plt.show()\n",
    "\n",
    "plt.figure()\n",
    "plt.scatter(range(0,50), pred[0:50], c='r')\n",
    "plt.ylabel('Type of Data')\n",
    "plt.xlabel('Sample Number')\n",
    "plt.title('XGBoost Model Predictions')\n",
    "plt.show()"
   ]
  },
  {
   "cell_type": "markdown",
   "metadata": {},
   "source": [
    "## Predictions on normal data"
   ]
  },
  {
   "cell_type": "code",
   "execution_count": 190,
   "metadata": {
    "collapsed": false,
    "scrolled": false
   },
   "outputs": [
    {
     "name": "stdout",
     "output_type": "stream",
     "text": [
      "XGBoost Probablitiy Best RMSE: 0.0\n",
      "Accuracy : 1\n"
     ]
    }
   ],
   "source": [
    "bench_X_test = bench_data.ix[:,0:10]\n",
    "bench_y_test = bench_data.ix[:,10]\n",
    "\n",
    "bench_X_test = bench_X_test.astype(np.int64)\n",
    "\n",
    "pred_bench = xgbmodel.predict(bench_X_test)\n",
    "score = mean_squared_error(bench_y_test, pred_bench)\n",
    "\n",
    "print(\"XGBoost Probablitiy Best RMSE: {}\".format(np.sqrt(score).mean()))\n",
    "print \"Accuracy : %.4g\" % metrics.accuracy_score(bench_y_test, pred_bench)"
   ]
  },
  {
   "cell_type": "code",
   "execution_count": 191,
   "metadata": {
    "collapsed": false
   },
   "outputs": [
    {
     "data": {
      "image/png": "[encoded data removed]",
      "text/plain": [
       "<matplotlib.figure.Figure at 0x118ff6a50>"
      ]
     },
     "metadata": {},
     "output_type": "display_data"
    },
    {
     "data": {
      "image/png": "[encoded data removed]",
      "text/plain": [
       "<matplotlib.figure.Figure at 0x112fc4190>"
      ]
     },
     "metadata": {},
     "output_type": "display_data"
    }
   ],
   "source": [
    "plt.figure()\n",
    "plt.scatter(range(0,50), bench_y_test[0:50])\n",
    "plt.ylabel('Type of Data')\n",
    "plt.xlabel('Sample Number')\n",
    "plt.title('Actual Data Type')\n",
    "plt.show()\n",
    "\n",
    "plt.figure()\n",
    "plt.scatter(range(0,50), pred_bench[0:50], c='r')\n",
    "plt.ylabel('Type of Data')\n",
    "plt.xlabel('Sample Number')\n",
    "plt.title('XGBoost Model Predictions')\n",
    "plt.show()"
   ]
  },
  {
   "cell_type": "markdown",
   "metadata": {},
   "source": [
    "## Predictions on attacked data"
   ]
  },
  {
   "cell_type": "code",
   "execution_count": 192,
   "metadata": {
    "collapsed": false
   },
   "outputs": [
    {
     "name": "stdout",
     "output_type": "stream",
     "text": [
      "XGBoost Probablitiy Best RMSE: 0.0\n",
      "Accuracy : 1\n"
     ]
    }
   ],
   "source": [
    "attack_X_test = attack_data.ix[:,0:10]\n",
    "attack_y_test = attack_data.ix[:,10]\n",
    "\n",
    "attack_X_test = attack_X_test.astype(np.int64)\n",
    "\n",
    "pred_attack = xgbmodel.predict(attack_X_test)\n",
    "score = mean_squared_error(attack_y_test, pred_attack)\n",
    "\n",
    "print(\"XGBoost Probablitiy Best RMSE: {}\".format(np.sqrt(score).mean()))\n",
    "print \"Accuracy : %.4g\" % metrics.accuracy_score(attack_y_test, pred_attack)"
   ]
  },
  {
   "cell_type": "code",
   "execution_count": 193,
   "metadata": {
    "collapsed": false
   },
   "outputs": [
    {
     "data": {
      "image/png": "[encoded data removed]",
      "text/plain": [
       "<matplotlib.figure.Figure at 0x11244cad0>"
      ]
     },
     "metadata": {},
     "output_type": "display_data"
    },
    {
     "data": {
      "image/png": "[encoded data removed]",
      "text/plain": [
       "<matplotlib.figure.Figure at 0x117741ad0>"
      ]
     },
     "metadata": {},
     "output_type": "display_data"
    }
   ],
   "source": [
    "plt.figure()\n",
    "plt.scatter(range(0,50), attack_y_test[0:50])\n",
    "plt.ylabel('Type of Data')\n",
    "plt.xlabel('Sample Number')\n",
    "plt.title('Actual Data Type')\n",
    "plt.show()\n",
    "\n",
    "plt.figure()\n",
    "plt.scatter(range(0,50), pred_attack[0:50], c='r')\n",
    "plt.ylabel('Type of Data')\n",
    "plt.xlabel('Sample Number')\n",
    "plt.title('XGBoost Model Predictions')\n",
    "plt.show()"
   ]
  },
  {
   "cell_type": "code",
   "execution_count": 194,
   "metadata": {
    "collapsed": false
   },
   "outputs": [
    {
     "data": {
      "text/plain": [
       "<matplotlib.text.Text at 0x1122ba910>"
      ]
     },
     "execution_count": 194,
     "metadata": {},
     "output_type": "execute_result"
    },
    {
     "data": {
      "image/png": "[encoded data removed]",
      "text/plain": [
       "<matplotlib.figure.Figure at 0x118a8abd0>"
      ]
     },
     "metadata": {},
     "output_type": "display_data"
    }
   ],
   "source": [
    "feat_imp = pd.Series(xgbmodel.booster().get_fscore()).sort_values(ascending=False)\n",
    "feat_imp.plot(kind='bar', title='Feature Importances')\n",
    "plt.ylabel('Feature Importance Score')"
   ]
  },
  {
   "cell_type": "markdown",
   "metadata": {
    "collapsed": true
   },
   "source": [
    "## Running model on newly collected data (HMMER)"
   ]
  },
  {
   "cell_type": "code",
   "execution_count": 195,
   "metadata": {
    "collapsed": false
   },
   "outputs": [
    {
     "data": {
      "text/html": [
       "<div>\n",
       "<table border=\"1\" class=\"dataframe\">\n",
       "  <thead>\n",
       "    <tr style=\"text-align: right;\">\n",
       "      <th></th>\n",
       "      <th>Time</th>\n",
       "      <th>Value</th>\n",
       "      <th>Type</th>\n",
       "    </tr>\n",
       "  </thead>\n",
       "  <tbody>\n",
       "    <tr>\n",
       "      <th>0</th>\n",
       "      <td>0.502321</td>\n",
       "      <td>4013262</td>\n",
       "      <td>L1-dcache-load-misses</td>\n",
       "    </tr>\n",
       "    <tr>\n",
       "      <th>1</th>\n",
       "      <td>0.502321</td>\n",
       "      <td>65298</td>\n",
       "      <td>dTLB-store-misses</td>\n",
       "    </tr>\n",
       "    <tr>\n",
       "      <th>2</th>\n",
       "      <td>0.502321</td>\n",
       "      <td>70282</td>\n",
       "      <td>dTLB-load-misses</td>\n",
       "    </tr>\n",
       "    <tr>\n",
       "      <th>3</th>\n",
       "      <td>1.005052</td>\n",
       "      <td>4317505</td>\n",
       "      <td>L1-dcache-load-misses</td>\n",
       "    </tr>\n",
       "    <tr>\n",
       "      <th>4</th>\n",
       "      <td>1.005052</td>\n",
       "      <td>61282</td>\n",
       "      <td>dTLB-store-misses</td>\n",
       "    </tr>\n",
       "  </tbody>\n",
       "</table>\n",
       "</div>"
      ],
      "text/plain": [
       "       Time    Value                   Type\n",
       "0  0.502321  4013262  L1-dcache-load-misses\n",
       "1  0.502321    65298      dTLB-store-misses\n",
       "2  0.502321    70282       dTLB-load-misses\n",
       "3  1.005052  4317505  L1-dcache-load-misses\n",
       "4  1.005052    61282      dTLB-store-misses"
      ]
     },
     "execution_count": 195,
     "metadata": {},
     "output_type": "execute_result"
    }
   ],
   "source": [
    "data1 = pd.read_csv('Data/Benchmark/hmmer_1.txt', delim_whitespace=True)\n",
    "data1 = data1.drop(data1.columns[3], axis=1)\n",
    "data1 = data1.drop(data1.columns[3], axis=1)\n",
    "data1 = data1.drop(data1.columns[3], axis=1)\n",
    "data1 = data1.drop(data1.columns[3], axis=1)\n",
    "data1 = data1.drop(data1.columns[3], axis=1)\n",
    "data1.columns = ['Time', 'Value', 'Type']\n",
    "\n",
    "data2 = pd.read_csv('Data/Benchmark/hmmer_2.txt', delim_whitespace=True)\n",
    "data2 = data2.drop(data2.columns[3], axis=1)\n",
    "data2 = data2.drop(data2.columns[3], axis=1)\n",
    "data2 = data2.drop(data2.columns[3], axis=1)\n",
    "data2 = data2.drop(data2.columns[3], axis=1)\n",
    "data2 = data2.drop(data2.columns[3], axis=1)\n",
    "data2.columns = ['Time', 'Value', 'Type']\n",
    "\n",
    "data3 = pd.read_csv('Data/Benchmark/hmmer_3.txt', delim_whitespace=True)\n",
    "data3 = data3.drop(data3.columns[3], axis=1)\n",
    "data3 = data3.drop(data3.columns[3], axis=1)\n",
    "data3 = data3.drop(data3.columns[3], axis=1)\n",
    "data3 = data3.drop(data3.columns[3], axis=1)\n",
    "data3 = data3.drop(data3.columns[3], axis=1)\n",
    "data3.columns = ['Time', 'Value', 'Type']\n",
    "\n",
    "data3.head()"
   ]
  },
  {
   "cell_type": "code",
   "execution_count": 196,
   "metadata": {
    "collapsed": false
   },
   "outputs": [
    {
     "name": "stdout",
     "output_type": "stream",
     "text": [
      "(274, 3)\n",
      "(274, 3)\n",
      "(274, 3)\n",
      "(274, 3)\n",
      "(274, 3)\n",
      "(274, 3)\n",
      "(274, 3)\n",
      "(274, 3)\n",
      "(274, 3)\n",
      "(274, 3)\n",
      "(274, 3)\n"
     ]
    }
   ],
   "source": [
    "total = np.vstack([data1, data2, data3])\n",
    "\n",
    "r412e = data1[data1.Type.isin(['r412e'])].reset_index(drop=True)\n",
    "r4f2e = data1[data1.Type.isin(['r4f2e'])].reset_index(drop=True)\n",
    "branchloads = data1[data1.Type.isin(['branch-loads'])].reset_index(drop=True)\n",
    "branchmisses = data1[data1.Type.isin(['branch-load-misses'])].reset_index(drop=True)\n",
    "faults = data1[data1.Type.isin(['faults'])].reset_index(drop=True)\n",
    "dtlbload = data3[data3.Type.isin(['dTLB-load-misses'])].reset_index(drop=True)\n",
    "dtlbstore = data3[data3.Type.isin(['dTLB-store-misses'])].reset_index(drop=True)\n",
    "l1load = data3[data3.Type.isin(['L1-dcache-load-misses'])].reset_index(drop=True)\n",
    "l1store = data2[data2.Type.isin(['L1-dcache-store-misses'])].reset_index(drop=True)\n",
    "l1prefetch = data2[data2.Type.isin(['L1-dcache-prefetch-misses'])].reset_index(drop=True)\n",
    "l1icacheload = data2[data2.Type.isin(['L1-icache-load-misses'])].reset_index(drop=True)\n",
    "\n",
    "r412e = r412e.ix[range(0, 274),:]\n",
    "r4f2e = r4f2e.ix[range(0, 274),:]\n",
    "branchloads = branchloads.ix[range(0, 274),:]\n",
    "branchmisses = branchmisses.ix[range(0, 274),:]\n",
    "faults = faults.ix[range(0, 274),:]\n",
    "dtlbload = dtlbload.ix[range(0, 274),:]\n",
    "dtlbstore = dtlbstore.ix[range(0, 274),:]\n",
    "l1load = l1load.ix[range(0, 274),:]\n",
    "l1store = l1store.ix[range(0, 274),:]\n",
    "l1prefetch = l1prefetch.ix[range(0, 274),:]\n",
    "l1icacheload = l1icacheload.ix[range(0, 274),:]\n",
    "\n",
    "print r412e.shape\n",
    "print r4f2e.shape\n",
    "print branchloads.shape\n",
    "print branchmisses.shape\n",
    "print faults.shape\n",
    "print dtlbload.shape\n",
    "print dtlbstore.shape\n",
    "print l1load.shape\n",
    "print l1store.shape\n",
    "print l1prefetch.shape\n",
    "print l1icacheload.shape"
   ]
  },
  {
   "cell_type": "code",
   "execution_count": 197,
   "metadata": {
    "collapsed": false
   },
   "outputs": [],
   "source": [
    "r412e.index = range(len(r412e))\n",
    "r4f2e.index = range(len(r4f2e))\n",
    "branchloads.index = range(len(branchloads))\n",
    "branchmisses.index = range(len(branchmisses))\n",
    "faults.index = range(len(faults))\n",
    "dtlbload.index = range(len(dtlbload))\n",
    "dtlbstore.index = range(len(dtlbstore))\n",
    "l1load.index = range(len(l1load))\n",
    "l1store.index = range(len(l1store))\n",
    "l1prefetch.index = range(len(l1prefetch))\n",
    "l1icacheload.index = range(len(l1icacheload))\n",
    "\n",
    "zeros = pd.DataFrame(np.zeros(len(r412e)))\n",
    "\n",
    "bench_data = pd.concat([r412e.Value, r4f2e.Value, branchloads.Value, branchmisses.Value, \n",
    "                        faults.Value, dtlbload.Value, dtlbstore.Value, l1load.Value, l1store.Value, l1prefetch.Value,\n",
    "                        l1icacheload.Value, zeros], axis=1)\n",
    "bench_data.columns = ['r412e', 'r4f2e', 'branchloads', 'branchmisses', 'faults', 'dtlb_load_misses', \n",
    "                      'dtlb_store_misses', 'l1_dcache_load_misses', 'l1_dcache_store_misses', \n",
    "                      'l1_dcache_prefetch_misses', 'l1_icache_load_misses', 'type']\n",
    "bench_data = bench_data.drop('l1_dcache_prefetch_misses', axis=1)"
   ]
  },
  {
   "cell_type": "code",
   "execution_count": 199,
   "metadata": {
    "collapsed": false
   },
   "outputs": [
    {
     "name": "stdout",
     "output_type": "stream",
     "text": [
      "XGBoost Probablitiy Best RMSE: 0.0854357657717\n",
      "Accuracy : 0.9927\n"
     ]
    }
   ],
   "source": [
    "X_test = bench_data.ix[:,0:10]\n",
    "y_test = bench_data.ix[:,10]\n",
    "\n",
    "X_test = X_test.astype(np.int64)\n",
    "\n",
    "pred = xgbmodel.predict(X_test)\n",
    "pred_prob = xgbmodel.predict_proba(X_test)\n",
    "pred_prob = pred_prob[:,1]\n",
    "\n",
    "score = mean_squared_error(y_test, pred)\n",
    "\n",
    "print(\"XGBoost Probablitiy Best RMSE: {}\".format(np.sqrt(score).mean()))\n",
    "print \"Accuracy : %.4g\" % metrics.accuracy_score(y_test, pred)"
   ]
  },
  {
   "cell_type": "code",
   "execution_count": 200,
   "metadata": {
    "collapsed": false
   },
   "outputs": [
    {
     "name": "stdout",
     "output_type": "stream",
     "text": [
      "Our Model's Types of samples: \n",
      "0.0    272\n",
      "1.0      2\n",
      "Name: Type, dtype: int64\n",
      "\n",
      "True Types of samples: \n",
      "0.0    274\n",
      "Name: Type, dtype: int64\n"
     ]
    }
   ],
   "source": [
    "print(\"Our Model's Types of samples: \")\n",
    "pred = pd.DataFrame(pred)\n",
    "pred.columns = ['Type']\n",
    "print pred.Type.value_counts()[:10]\n",
    "\n",
    "print(\"\")\n",
    "\n",
    "print(\"True Types of samples: \")\n",
    "y_test = pd.DataFrame(y_test)\n",
    "y_test.columns = ['Type']\n",
    "print y_test.Type.value_counts()[:10]"
   ]
  },
  {
   "cell_type": "markdown",
   "metadata": {},
   "source": [
    "# Pre-process Data"
   ]
  },
  {
   "cell_type": "code",
   "execution_count": 142,
   "metadata": {
    "collapsed": false
   },
   "outputs": [
    {
     "data": {
      "text/html": [
       "<div>\n",
       "<table border=\"1\" class=\"dataframe\">\n",
       "  <thead>\n",
       "    <tr style=\"text-align: right;\">\n",
       "      <th></th>\n",
       "      <th>Time</th>\n",
       "      <th>Value</th>\n",
       "      <th>Type</th>\n",
       "    </tr>\n",
       "  </thead>\n",
       "  <tbody>\n",
       "    <tr>\n",
       "      <th>0</th>\n",
       "      <td>0.500938</td>\n",
       "      <td>3150986</td>\n",
       "      <td>L1-dcache-store-misses</td>\n",
       "    </tr>\n",
       "    <tr>\n",
       "      <th>1</th>\n",
       "      <td>0.500938</td>\n",
       "      <td>0</td>\n",
       "      <td>L1-dcache-prefetch-misses</td>\n",
       "    </tr>\n",
       "    <tr>\n",
       "      <th>2</th>\n",
       "      <td>0.500938</td>\n",
       "      <td>3121441</td>\n",
       "      <td>L1-icache-load-misses</td>\n",
       "    </tr>\n",
       "    <tr>\n",
       "      <th>3</th>\n",
       "      <td>1.001436</td>\n",
       "      <td>802859</td>\n",
       "      <td>L1-dcache-store-misses</td>\n",
       "    </tr>\n",
       "    <tr>\n",
       "      <th>4</th>\n",
       "      <td>1.001436</td>\n",
       "      <td>0</td>\n",
       "      <td>L1-dcache-prefetch-misses</td>\n",
       "    </tr>\n",
       "  </tbody>\n",
       "</table>\n",
       "</div>"
      ],
      "text/plain": [
       "       Time    Value                       Type\n",
       "0  0.500938  3150986     L1-dcache-store-misses\n",
       "1  0.500938        0  L1-dcache-prefetch-misses\n",
       "2  0.500938  3121441      L1-icache-load-misses\n",
       "3  1.001436   802859     L1-dcache-store-misses\n",
       "4  1.001436        0  L1-dcache-prefetch-misses"
      ]
     },
     "execution_count": 142,
     "metadata": {},
     "output_type": "execute_result"
    }
   ],
   "source": [
    "adata1 = pd.read_csv('Data/Attacked/flush_reload_1_out.txt', delim_whitespace=True)\n",
    "adata1 = adata1.drop(adata1.columns[3], axis=1)\n",
    "adata1 = adata1.drop(adata1.columns[3], axis=1)\n",
    "adata1 = adata1.drop(adata1.columns[3], axis=1)\n",
    "adata1 = adata1.drop(adata1.columns[3], axis=1)\n",
    "adata1 = adata1.drop(adata1.columns[3], axis=1)\n",
    "adata1.columns = ['Time', 'Value', 'Type']\n",
    "\n",
    "adata2 = pd.read_csv('Data/Attacked/flush_reload_2_out.txt', delim_whitespace=True)\n",
    "adata2 = adata2.drop(adata2.columns[3], axis=1)\n",
    "adata2 = adata2.drop(adata2.columns[3], axis=1)\n",
    "adata2 = adata2.drop(adata2.columns[3], axis=1)\n",
    "adata2 = adata2.drop(adata2.columns[3], axis=1)\n",
    "adata2 = adata2.drop(adata2.columns[3], axis=1)\n",
    "adata2.columns = ['Time', 'Value', 'Type']\n",
    "\n",
    "adata3 = pd.read_csv('Data/Attacked/flush_reload_3_out.txt', delim_whitespace=True)\n",
    "adata3 = adata3.drop(adata3.columns[3], axis=1)\n",
    "adata3 = adata3.drop(adata3.columns[3], axis=1)\n",
    "adata3 = adata3.drop(adata3.columns[3], axis=1)\n",
    "adata3 = adata3.drop(adata3.columns[3], axis=1)\n",
    "adata3 = adata3.drop(adata3.columns[3], axis=1)\n",
    "adata3.columns = ['Time', 'Value', 'Type']\n",
    "\n",
    "adata3.head()"
   ]
  },
  {
   "cell_type": "code",
   "execution_count": 143,
   "metadata": {
    "collapsed": true
   },
   "outputs": [],
   "source": [
    "atotal = np.vstack([adata1, adata2, adata3])\n",
    "\n",
    "ar412e = adata1[adata1.Type.isin(['r412e'])].reset_index(drop=True)\n",
    "ar4f2e = adata1[adata1.Type.isin(['r4f2e'])].reset_index(drop=True)\n",
    "abranchloads = adata1[adata1.Type.isin(['branch-loads'])].reset_index(drop=True)\n",
    "abranchmisses = adata1[adata1.Type.isin(['branch-load-misses'])].reset_index(drop=True)\n",
    "afaults = adata1[adata1.Type.isin(['faults'])].reset_index(drop=True)\n",
    "adtlbload = adata2[adata2.Type.isin(['dTLB-load-misses'])].reset_index(drop=True)\n",
    "adtlbstore = adata2[adata2.Type.isin(['dTLB-store-misses'])].reset_index(drop=True)\n",
    "al1load = adata2[adata2.Type.isin(['L1-dcache-load-misses'])].reset_index(drop=True)\n",
    "al1store = adata3[adata3.Type.isin(['L1-dcache-store-misses'])].reset_index(drop=True)\n",
    "al1prefetch = adata3[adata3.Type.isin(['L1-dcache-prefetch-misses'])].reset_index(drop=True)\n",
    "al1icacheload = adata3[adata3.Type.isin(['L1-icache-load-misses'])].reset_index(drop=True)"
   ]
  },
  {
   "cell_type": "code",
   "execution_count": 144,
   "metadata": {
    "collapsed": false
   },
   "outputs": [],
   "source": [
    "data1 = pd.read_csv('Data/Benchmark/gobmk_1.txt', delim_whitespace=True)\n",
    "data1 = data1.drop(data1.columns[3], axis=1)\n",
    "data1 = data1.drop(data1.columns[3], axis=1)\n",
    "data1 = data1.drop(data1.columns[3], axis=1)\n",
    "data1 = data1.drop(data1.columns[3], axis=1)\n",
    "data1 = data1.drop(data1.columns[3], axis=1)\n",
    "data1.columns = ['Time', 'Value', 'Type']\n",
    "\n",
    "data2 = pd.read_csv('Data/Benchmark/gobmk_2.txt', delim_whitespace=True)\n",
    "data2 = data2.drop(data2.columns[3], axis=1)\n",
    "data2 = data2.drop(data2.columns[3], axis=1)\n",
    "data2 = data2.drop(data2.columns[3], axis=1)\n",
    "data2 = data2.drop(data2.columns[3], axis=1)\n",
    "data2 = data2.drop(data2.columns[3], axis=1)\n",
    "data2.columns = ['Time', 'Value', 'Type']\n",
    "\n",
    "data3 = pd.read_csv('Data/Benchmark/gobmk_3.txt', delim_whitespace=True)\n",
    "data3 = data3.drop(data3.columns[3], axis=1)\n",
    "data3 = data3.drop(data3.columns[3], axis=1)\n",
    "data3 = data3.drop(data3.columns[3], axis=1)\n",
    "data3 = data3.drop(data3.columns[3], axis=1)\n",
    "data3 = data3.drop(data3.columns[3], axis=1)\n",
    "data3.columns = ['Time', 'Value', 'Type']\n",
    "\n",
    "data4 = data1\n",
    "data5 = data2\n",
    "data6 = data3"
   ]
  },
  {
   "cell_type": "code",
   "execution_count": 145,
   "metadata": {
    "collapsed": false
   },
   "outputs": [
    {
     "data": {
      "text/html": [
       "<div>\n",
       "<table border=\"1\" class=\"dataframe\">\n",
       "  <thead>\n",
       "    <tr style=\"text-align: right;\">\n",
       "      <th></th>\n",
       "      <th>Time</th>\n",
       "      <th>Value</th>\n",
       "      <th>Type</th>\n",
       "    </tr>\n",
       "  </thead>\n",
       "  <tbody>\n",
       "    <tr>\n",
       "      <th>0</th>\n",
       "      <td>0.500609489</td>\n",
       "      <td>13937419</td>\n",
       "      <td>L1-dcache-load-misses</td>\n",
       "    </tr>\n",
       "    <tr>\n",
       "      <th>1</th>\n",
       "      <td>0.500609489</td>\n",
       "      <td>540308</td>\n",
       "      <td>dTLB-store-misses</td>\n",
       "    </tr>\n",
       "    <tr>\n",
       "      <th>2</th>\n",
       "      <td>0.500609489</td>\n",
       "      <td>445148</td>\n",
       "      <td>dTLB-load-misses</td>\n",
       "    </tr>\n",
       "    <tr>\n",
       "      <th>3</th>\n",
       "      <td>1.000978352</td>\n",
       "      <td>17659473</td>\n",
       "      <td>L1-dcache-load-misses</td>\n",
       "    </tr>\n",
       "    <tr>\n",
       "      <th>4</th>\n",
       "      <td>1.000978352</td>\n",
       "      <td>357116</td>\n",
       "      <td>dTLB-store-misses</td>\n",
       "    </tr>\n",
       "  </tbody>\n",
       "</table>\n",
       "</div>"
      ],
      "text/plain": [
       "          Time     Value                   Type\n",
       "0  0.500609489  13937419  L1-dcache-load-misses\n",
       "1  0.500609489    540308      dTLB-store-misses\n",
       "2  0.500609489    445148       dTLB-load-misses\n",
       "3  1.000978352  17659473  L1-dcache-load-misses\n",
       "4  1.000978352    357116      dTLB-store-misses"
      ]
     },
     "execution_count": 145,
     "metadata": {},
     "output_type": "execute_result"
    }
   ],
   "source": [
    "data1 = pd.read_csv('Data/Benchmark/zeusmp_1.txt', delim_whitespace=True)\n",
    "data1 = data1.drop(data1.columns[3], axis=1)\n",
    "data1 = data1.drop(data1.columns[3], axis=1)\n",
    "data1 = data1.drop(data1.columns[3], axis=1)\n",
    "data1 = data1.drop(data1.columns[3], axis=1)\n",
    "data1 = data1.drop(data1.columns[3], axis=1)\n",
    "data1.columns = ['Time', 'Value', 'Type']\n",
    "\n",
    "data2 = pd.read_csv('Data/Benchmark/zeusmp_2.txt', delim_whitespace=True)\n",
    "data2 = data2.drop(data2.columns[3], axis=1)\n",
    "data2 = data2.drop(data2.columns[3], axis=1)\n",
    "data2 = data2.drop(data2.columns[3], axis=1)\n",
    "data2 = data2.drop(data2.columns[3], axis=1)\n",
    "data2 = data2.drop(data2.columns[3], axis=1)\n",
    "data2.columns = ['Time', 'Value', 'Type']\n",
    "\n",
    "data3 = pd.read_csv('Data/Benchmark/zeusmp_3.txt', delim_whitespace=True)\n",
    "data3 = data3.drop(data3.columns[3], axis=1)\n",
    "data3 = data3.drop(data3.columns[3], axis=1)\n",
    "data3 = data3.drop(data3.columns[3], axis=1)\n",
    "data3 = data3.drop(data3.columns[3], axis=1)\n",
    "data3 = data3.drop(data3.columns[3], axis=1)\n",
    "data3.columns = ['Time', 'Value', 'Type']\n",
    "\n",
    "data3.head()"
   ]
  },
  {
   "cell_type": "code",
   "execution_count": 146,
   "metadata": {
    "collapsed": false
   },
   "outputs": [
    {
     "name": "stdout",
     "output_type": "stream",
     "text": [
      "(3495, 3)\n",
      "(3495, 3)\n",
      "(3495, 3)\n",
      "(3495, 3)\n",
      "(3495, 3)\n",
      "(3495, 3)\n",
      "(3495, 3)\n",
      "(3495, 3)\n",
      "(3495, 3)\n",
      "(3495, 3)\n",
      "(3495, 3)\n"
     ]
    }
   ],
   "source": [
    "total = np.vstack([data1, data2, data3, data4, data5, data6])\n",
    "total = pd.DataFrame(total)\n",
    "total.columns = ['Time', 'Value', 'Type']\n",
    "\n",
    "r412e = total[total.Type.isin(['r412e'])].reset_index(drop=True)\n",
    "r4f2e = total[total.Type.isin(['r4f2e'])].reset_index(drop=True)\n",
    "branchloads = total[total.Type.isin(['branch-loads'])].reset_index(drop=True)\n",
    "branchmisses = total[total.Type.isin(['branch-load-misses'])].reset_index(drop=True)\n",
    "faults = total[total.Type.isin(['faults'])].reset_index(drop=True)\n",
    "dtlbload = total[total.Type.isin(['dTLB-load-misses'])].reset_index(drop=True)\n",
    "dtlbstore = total[total.Type.isin(['dTLB-store-misses'])].reset_index(drop=True)\n",
    "l1load = total[total.Type.isin(['L1-dcache-load-misses'])].reset_index(drop=True)\n",
    "l1store = total[total.Type.isin(['L1-dcache-store-misses'])].reset_index(drop=True)\n",
    "l1prefetch = total[total.Type.isin(['L1-dcache-prefetch-misses'])].reset_index(drop=True)\n",
    "l1icacheload = total[total.Type.isin(['L1-icache-load-misses'])].reset_index(drop=True)\n",
    "\n",
    "r412e = r412e.ix[range(0, 3495),:]\n",
    "r4f2e = r4f2e.ix[range(0, 3495),:]\n",
    "branchloads = branchloads.ix[range(0, 3495),:]\n",
    "branchmisses = branchmisses.ix[range(0, 3495),:]\n",
    "faults = faults.ix[range(0, 3495),:]\n",
    "dtlbload = dtlbload.ix[range(0, 3495),:]\n",
    "dtlbstore = dtlbstore.ix[range(0, 3495),:]\n",
    "l1load = l1load.ix[range(0, 3495),:]\n",
    "l1store = l1store.ix[range(0, 3495),:]\n",
    "l1prefetch = l1prefetch.ix[range(0, 3495),:]\n",
    "l1icacheload = l1icacheload.ix[range(0, 3495),:]\n",
    "\n",
    "print r412e.shape\n",
    "print r4f2e.shape\n",
    "print branchloads.shape\n",
    "print branchmisses.shape\n",
    "print faults.shape\n",
    "print dtlbload.shape\n",
    "print dtlbstore.shape\n",
    "print l1load.shape\n",
    "print l1store.shape\n",
    "print l1prefetch.shape\n",
    "print l1icacheload.shape"
   ]
  },
  {
   "cell_type": "code",
   "execution_count": 147,
   "metadata": {
    "collapsed": false
   },
   "outputs": [],
   "source": [
    "r412e = pd.DataFrame(r412e)\n",
    "r4f2e = pd.DataFrame(r4f2e)\n",
    "branchloads = pd.DataFrame(branchloads)\n",
    "branchmisses = pd.DataFrame(branchmisses)\n",
    "faults = pd.DataFrame(faults)\n",
    "dtlbload = pd.DataFrame(dtlbload)\n",
    "dtlbstore = pd.DataFrame(dtlbstore)\n",
    "l1load = pd.DataFrame(l1load)\n",
    "l1store = pd.DataFrame(l1store)\n",
    "l1prefetch = pd.DataFrame(l1prefetch)\n",
    "l1icacheload = pd.DataFrame(l1icacheload)\n",
    "\n",
    "r412e.columns = ['Time', 'Value', 'Type']\n",
    "r4f2e.columns = ['Time', 'Value', 'Type']\n",
    "branchloads.columns = ['Time', 'Value', 'Type']\n",
    "branchmisses.columns = ['Time', 'Value', 'Type']\n",
    "faults.columns = ['Time', 'Value', 'Type']\n",
    "dtlbload.columns = ['Time', 'Value', 'Type']\n",
    "dtlbstore.columns = ['Time', 'Value', 'Type']\n",
    "l1load.columns = ['Time', 'Value', 'Type']\n",
    "l1store.columns = ['Time', 'Value', 'Type']\n",
    "l1prefetch.columns = ['Time', 'Value', 'Type']\n",
    "l1icacheload.columns = ['Time', 'Value', 'Type']\n",
    "\n",
    "r412e.index = range(len(r412e))\n",
    "r4f2e.index = range(len(r4f2e))\n",
    "branchloads.index = range(len(branchloads))\n",
    "branchmisses.index = range(len(branchmisses))\n",
    "faults.index = range(len(faults))\n",
    "dtlbload.index = range(len(dtlbload))\n",
    "dtlbstore.index = range(len(dtlbstore))\n",
    "l1load.index = range(len(l1load))\n",
    "l1store.index = range(len(l1store))\n",
    "l1prefetch.index = range(len(l1prefetch))\n",
    "l1icacheload.index = range(len(l1icacheload))\n",
    "\n",
    "ones = pd.DataFrame(np.ones(len(ar412e)))\n",
    "zeros = pd.DataFrame(np.zeros(len(r412e)))\n",
    "\n",
    "bench_data = pd.concat([r412e.Value, r4f2e.Value, branchloads.Value, branchmisses.Value, \n",
    "                        faults.Value, dtlbload.Value, dtlbstore.Value, l1load.Value, l1store.Value, l1prefetch.Value,\n",
    "                        l1icacheload.Value, zeros], axis=1)\n",
    "bench_data.columns = ['r412e', 'r4f2e', 'branchloads', 'branchmisses', 'faults', 'dtlb_load_misses', \n",
    "                      'dtlb_store_misses', 'l1_dcache_load_misses', 'l1_dcache_store_misses', \n",
    "                      'l1_dcache_prefetch_misses', 'l1_icache_load_misses', 'type']\n",
    "bench_data = bench_data.drop('l1_dcache_prefetch_misses', axis=1)\n",
    "\n",
    "attack_data = pd.concat([ar412e.Value, ar4f2e.Value, abranchloads.Value, abranchmisses.Value, \n",
    "                        afaults.Value, adtlbload.Value, adtlbstore.Value, al1load.Value, al1store.Value, \n",
    "                        al1prefetch.Value, al1icacheload.Value, ones], axis=1)\n",
    "attack_data.columns = ['r412e', 'r4f2e', 'branchloads', 'branchmisses', 'faults', 'dtlb_load_misses', \n",
    "                      'dtlb_store_misses', 'l1_dcache_load_misses', 'l1_dcache_store_misses', \n",
    "                      'l1_dcache_prefetch_misses', 'l1_icache_load_misses', 'type']\n",
    "attack_data = attack_data.drop('l1_dcache_prefetch_misses', axis=1)\n",
    "\n",
    "total_data = pd.concat([attack_data, bench_data], axis=0)\n",
    "total_data.columns = ['r412e', 'r4f2e', 'branchloads', 'branchmisses', 'faults', 'dtlb_load_misses', \n",
    "                      'dtlb_store_misses', 'l1_dcache_load_misses', 'l1_dcache_store_misses', \n",
    "                      'l1_icache_load_misses', 'type']\n",
    "\n",
    "# First, we'll shuffle the rows\n",
    "total_data = total_data.dropna()\n",
    "total_data = total_data.sample(frac=1).reset_index(drop=True)"
   ]
  },
  {
   "cell_type": "code",
   "execution_count": 148,
   "metadata": {
    "collapsed": false
   },
   "outputs": [
    {
     "name": "stdout",
     "output_type": "stream",
     "text": [
      "<type 'numpy.int64'>\n",
      "<type 'numpy.int64'>\n"
     ]
    }
   ],
   "source": [
    "msk = np.random.rand(len(total_data)) < 0.8\n",
    "train = total_data[msk].reset_index(drop=True)\n",
    "test = total_data[~msk].reset_index(drop=True)\n",
    "\n",
    "X_train = train.ix[:,0:10]\n",
    "y_train = train.ix[:,10]\n",
    "\n",
    "X_test = test.ix[:,0:10]\n",
    "y_test = test.ix[:,10]\n",
    "\n",
    "X_train = X_train.astype(np.int64)\n",
    "X_test = X_test.astype(np.int64)\n",
    "y_train = y_train.astype(np.int64)\n",
    "y_test = y_test.astype(np.int64)\n",
    "\n",
    "print type(X_train.ix[0,0])\n",
    "print type(y_train.ix[0,0])"
   ]
  },
  {
   "cell_type": "code",
   "execution_count": 149,
   "metadata": {
    "collapsed": false,
    "scrolled": true
   },
   "outputs": [
    {
     "name": "stdout",
     "output_type": "stream",
     "text": [
      "XGBoost Probablitiy Best RMSE: 0.0395370717628\n"
     ]
    }
   ],
   "source": [
    "xgbmodel = xgb.XGBClassifier()\n",
    "xgbmodel.fit(X_train,y_train)\n",
    "\n",
    "pred_prob = xgbmodel.predict_proba(X_test)\n",
    "pred_prob = pred_prob[:,1]\n",
    "\n",
    "score = mean_squared_error(y_test, pred_prob)\n",
    "print(\"XGBoost Probablitiy Best RMSE: {}\".format(np.sqrt(score).mean()))"
   ]
  },
  {
   "cell_type": "code",
   "execution_count": 150,
   "metadata": {
    "collapsed": false
   },
   "outputs": [
    {
     "name": "stdout",
     "output_type": "stream",
     "text": [
      "XGBoost Probablitiy Best RMSE: 0.0239216651972\n",
      "Accuracy : 0.9994\n"
     ]
    }
   ],
   "source": [
    "X_test = bench_data.ix[:,0:10]\n",
    "y_test = bench_data.ix[:,10]\n",
    "\n",
    "X_test = X_test.astype(np.int64)\n",
    "\n",
    "pred = xgbmodel.predict(X_test)\n",
    "\n",
    "\n",
    "score = mean_squared_error(y_test, pred)\n",
    "\n",
    "print(\"XGBoost Probablitiy Best RMSE: {}\".format(np.sqrt(score).mean()))\n",
    "print \"Accuracy : %.4g\" % metrics.accuracy_score(y_test, pred)"
   ]
  },
  {
   "cell_type": "code",
   "execution_count": 151,
   "metadata": {
    "collapsed": false,
    "scrolled": true
   },
   "outputs": [
    {
     "name": "stdout",
     "output_type": "stream",
     "text": [
      "Our Model's Types of samples: \n",
      "0    3493\n",
      "1       2\n",
      "Name: Type, dtype: int64\n",
      "\n",
      "True Types of samples: \n",
      "0.0    3495\n",
      "Name: Type, dtype: int64\n"
     ]
    }
   ],
   "source": [
    "print(\"Our Model's Types of samples: \")\n",
    "pred = pd.DataFrame(pred)\n",
    "pred.columns = ['Type']\n",
    "print pred.Type.value_counts()[:10]\n",
    "\n",
    "print(\"\")\n",
    "\n",
    "print(\"True Types of samples: \")\n",
    "y_test = pd.DataFrame(y_test)\n",
    "y_test.columns = ['Type']\n",
    "print y_test.Type.value_counts()[:10]"
   ]
  },
  {
   "cell_type": "code",
   "execution_count": 152,
   "metadata": {
    "collapsed": false
   },
   "outputs": [
    {
     "data": {
      "image/png": "[encoded data removed]",
      "text/plain": [
       "<matplotlib.figure.Figure at 0x1121dcd10>"
      ]
     },
     "metadata": {},
     "output_type": "display_data"
    },
    {
     "data": {
      "image/png": "[encoded data removed]",
      "text/plain": [
       "<matplotlib.figure.Figure at 0x118fc5c50>"
      ]
     },
     "metadata": {},
     "output_type": "display_data"
    }
   ],
   "source": [
    "plt.figure()\n",
    "plt.scatter(range(0,50), y_test[0:50])\n",
    "plt.ylabel('Type of Data')\n",
    "plt.xlabel('Sample Number')\n",
    "plt.title('Actual Data Type')\n",
    "plt.show()\n",
    "\n",
    "plt.figure()\n",
    "plt.scatter(range(0,50), pred[0:50], c='r')\n",
    "plt.ylabel('Type of Data')\n",
    "plt.xlabel('Sample Number')\n",
    "plt.title('XGBoost Model Predictions')\n",
    "plt.show()"
   ]
  },
  {
   "cell_type": "markdown",
   "metadata": {},
   "source": [
    "## Predictions on ZeusMP"
   ]
  },
  {
   "cell_type": "code",
   "execution_count": 153,
   "metadata": {
    "collapsed": false
   },
   "outputs": [
    {
     "data": {
      "text/html": [
       "<div>\n",
       "<table border=\"1\" class=\"dataframe\">\n",
       "  <thead>\n",
       "    <tr style=\"text-align: right;\">\n",
       "      <th></th>\n",
       "      <th>Time</th>\n",
       "      <th>Value</th>\n",
       "      <th>Type</th>\n",
       "    </tr>\n",
       "  </thead>\n",
       "  <tbody>\n",
       "    <tr>\n",
       "      <th>0</th>\n",
       "      <td>0.500609489</td>\n",
       "      <td>13937419</td>\n",
       "      <td>L1-dcache-load-misses</td>\n",
       "    </tr>\n",
       "    <tr>\n",
       "      <th>1</th>\n",
       "      <td>0.500609489</td>\n",
       "      <td>540308</td>\n",
       "      <td>dTLB-store-misses</td>\n",
       "    </tr>\n",
       "    <tr>\n",
       "      <th>2</th>\n",
       "      <td>0.500609489</td>\n",
       "      <td>445148</td>\n",
       "      <td>dTLB-load-misses</td>\n",
       "    </tr>\n",
       "    <tr>\n",
       "      <th>3</th>\n",
       "      <td>1.000978352</td>\n",
       "      <td>17659473</td>\n",
       "      <td>L1-dcache-load-misses</td>\n",
       "    </tr>\n",
       "    <tr>\n",
       "      <th>4</th>\n",
       "      <td>1.000978352</td>\n",
       "      <td>357116</td>\n",
       "      <td>dTLB-store-misses</td>\n",
       "    </tr>\n",
       "  </tbody>\n",
       "</table>\n",
       "</div>"
      ],
      "text/plain": [
       "          Time     Value                   Type\n",
       "0  0.500609489  13937419  L1-dcache-load-misses\n",
       "1  0.500609489    540308      dTLB-store-misses\n",
       "2  0.500609489    445148       dTLB-load-misses\n",
       "3  1.000978352  17659473  L1-dcache-load-misses\n",
       "4  1.000978352    357116      dTLB-store-misses"
      ]
     },
     "execution_count": 153,
     "metadata": {},
     "output_type": "execute_result"
    }
   ],
   "source": [
    "data1 = pd.read_csv('Data/Benchmark/zeusmp_1.txt', delim_whitespace=True)\n",
    "data1 = data1.drop(data1.columns[3], axis=1)\n",
    "data1 = data1.drop(data1.columns[3], axis=1)\n",
    "data1 = data1.drop(data1.columns[3], axis=1)\n",
    "data1 = data1.drop(data1.columns[3], axis=1)\n",
    "data1 = data1.drop(data1.columns[3], axis=1)\n",
    "data1.columns = ['Time', 'Value', 'Type']\n",
    "\n",
    "data2 = pd.read_csv('Data/Benchmark/zeusmp_2.txt', delim_whitespace=True)\n",
    "data2 = data2.drop(data2.columns[3], axis=1)\n",
    "data2 = data2.drop(data2.columns[3], axis=1)\n",
    "data2 = data2.drop(data2.columns[3], axis=1)\n",
    "data2 = data2.drop(data2.columns[3], axis=1)\n",
    "data2 = data2.drop(data2.columns[3], axis=1)\n",
    "data2.columns = ['Time', 'Value', 'Type']\n",
    "\n",
    "data3 = pd.read_csv('Data/Benchmark/zeusmp_3.txt', delim_whitespace=True)\n",
    "data3 = data3.drop(data3.columns[3], axis=1)\n",
    "data3 = data3.drop(data3.columns[3], axis=1)\n",
    "data3 = data3.drop(data3.columns[3], axis=1)\n",
    "data3 = data3.drop(data3.columns[3], axis=1)\n",
    "data3 = data3.drop(data3.columns[3], axis=1)\n",
    "data3.columns = ['Time', 'Value', 'Type']\n",
    "\n",
    "data3.head()"
   ]
  },
  {
   "cell_type": "code",
   "execution_count": 154,
   "metadata": {
    "collapsed": false
   },
   "outputs": [
    {
     "name": "stdout",
     "output_type": "stream",
     "text": [
      "(1726, 3)\n",
      "(1726, 3)\n",
      "(1726, 3)\n",
      "(1726, 3)\n",
      "(1726, 3)\n",
      "(1726, 3)\n",
      "(1726, 3)\n",
      "(1726, 3)\n",
      "(1726, 3)\n",
      "(1726, 3)\n",
      "(1726, 3)\n"
     ]
    }
   ],
   "source": [
    "total = np.vstack([data1, data2, data3])\n",
    "\n",
    "r412e = data1[data1.Type.isin(['r412e'])].reset_index(drop=True)\n",
    "r4f2e = data1[data1.Type.isin(['r4f2e'])].reset_index(drop=True)\n",
    "branchloads = data1[data1.Type.isin(['branch-loads'])].reset_index(drop=True)\n",
    "branchmisses = data1[data1.Type.isin(['branch-load-misses'])].reset_index(drop=True)\n",
    "faults = data1[data1.Type.isin(['faults'])].reset_index(drop=True)\n",
    "dtlbload = data3[data3.Type.isin(['dTLB-load-misses'])].reset_index(drop=True)\n",
    "dtlbstore = data3[data3.Type.isin(['dTLB-store-misses'])].reset_index(drop=True)\n",
    "l1load = data3[data3.Type.isin(['L1-dcache-load-misses'])].reset_index(drop=True)\n",
    "l1store = data2[data2.Type.isin(['L1-dcache-store-misses'])].reset_index(drop=True)\n",
    "l1prefetch = data2[data2.Type.isin(['L1-dcache-prefetch-misses'])].reset_index(drop=True)\n",
    "l1icacheload = data2[data2.Type.isin(['L1-icache-load-misses'])].reset_index(drop=True)\n",
    "\n",
    "r412e = r412e.ix[range(0, 1726),:]\n",
    "r4f2e = r4f2e.ix[range(0, 1726),:]\n",
    "branchloads = branchloads.ix[range(0, 1726),:]\n",
    "branchmisses = branchmisses.ix[range(0, 1726),:]\n",
    "faults = faults.ix[range(0, 1726),:]\n",
    "dtlbload = dtlbload.ix[range(0, 1726),:]\n",
    "dtlbstore = dtlbstore.ix[range(0, 1726),:]\n",
    "l1load = l1load.ix[range(0, 1726),:]\n",
    "l1store = l1store.ix[range(0, 1726),:]\n",
    "l1prefetch = l1prefetch.ix[range(0, 1726),:]\n",
    "l1icacheload = l1icacheload.ix[range(0, 1726),:]\n",
    "\n",
    "print r412e.shape\n",
    "print r4f2e.shape\n",
    "print branchloads.shape\n",
    "print branchmisses.shape\n",
    "print faults.shape\n",
    "print dtlbload.shape\n",
    "print dtlbstore.shape\n",
    "print l1load.shape\n",
    "print l1store.shape\n",
    "print l1prefetch.shape\n",
    "print l1icacheload.shape"
   ]
  },
  {
   "cell_type": "code",
   "execution_count": 155,
   "metadata": {
    "collapsed": true
   },
   "outputs": [],
   "source": [
    "r412e.index = range(len(r412e))\n",
    "r4f2e.index = range(len(r4f2e))\n",
    "branchloads.index = range(len(branchloads))\n",
    "branchmisses.index = range(len(branchmisses))\n",
    "faults.index = range(len(faults))\n",
    "dtlbload.index = range(len(dtlbload))\n",
    "dtlbstore.index = range(len(dtlbstore))\n",
    "l1load.index = range(len(l1load))\n",
    "l1store.index = range(len(l1store))\n",
    "l1prefetch.index = range(len(l1prefetch))\n",
    "l1icacheload.index = range(len(l1icacheload))\n",
    "\n",
    "zeros = pd.DataFrame(np.zeros(len(r412e)))\n",
    "\n",
    "bench_data = pd.concat([r412e.Value, r4f2e.Value, branchloads.Value, branchmisses.Value, \n",
    "                        faults.Value, dtlbload.Value, dtlbstore.Value, l1load.Value, l1store.Value, l1prefetch.Value,\n",
    "                        l1icacheload.Value, zeros], axis=1)\n",
    "bench_data.columns = ['r412e', 'r4f2e', 'branchloads', 'branchmisses', 'faults', 'dtlb_load_misses', \n",
    "                      'dtlb_store_misses', 'l1_dcache_load_misses', 'l1_dcache_store_misses', \n",
    "                      'l1_dcache_prefetch_misses', 'l1_icache_load_misses', 'type']\n",
    "bench_data = bench_data.drop('l1_dcache_prefetch_misses', axis=1)"
   ]
  },
  {
   "cell_type": "code",
   "execution_count": 156,
   "metadata": {
    "collapsed": false
   },
   "outputs": [
    {
     "name": "stdout",
     "output_type": "stream",
     "text": [
      "XGBoost Probablitiy Best RMSE: 0.0340403958785\n",
      "Accuracy : 0.9988\n",
      "Model's Final Determination : 0.001159\n"
     ]
    }
   ],
   "source": [
    "X_test = bench_data.ix[:,0:10]\n",
    "y_test = bench_data.ix[:,10]\n",
    "\n",
    "X_test = X_test.astype(np.int64)\n",
    "\n",
    "pred = xgbmodel.predict(X_test)\n",
    "pred_prob = xgbmodel.predict_proba(X_test)\n",
    "pred_prob = pred_prob[:,1]\n",
    "\n",
    "score = mean_squared_error(y_test, pred)\n",
    "\n",
    "print(\"XGBoost Probablitiy Best RMSE: {}\".format(np.sqrt(score).mean()))\n",
    "print \"Accuracy : %.4g\" % metrics.accuracy_score(y_test, pred)\n",
    "print \"Model's Final Determination : %.4g\" % pred.mean()"
   ]
  },
  {
   "cell_type": "code",
   "execution_count": 157,
   "metadata": {
    "collapsed": false,
    "scrolled": false
   },
   "outputs": [
    {
     "name": "stdout",
     "output_type": "stream",
     "text": [
      "Our Model's Types of samples: \n",
      "0    1724\n",
      "1       2\n",
      "Name: Type, dtype: int64\n",
      "\n",
      "True Types of samples: \n",
      "0.0    1726\n",
      "Name: Type, dtype: int64\n"
     ]
    }
   ],
   "source": [
    "print(\"Our Model's Types of samples: \")\n",
    "pred = pd.DataFrame(pred)\n",
    "pred.columns = ['Type']\n",
    "print pred.Type.value_counts()[:10]\n",
    "\n",
    "print(\"\")\n",
    "\n",
    "print(\"True Types of samples: \")\n",
    "y_test = pd.DataFrame(y_test)\n",
    "y_test.columns = ['Type']\n",
    "print y_test.Type.value_counts()[:10]"
   ]
  },
  {
   "cell_type": "code",
   "execution_count": 158,
   "metadata": {
    "collapsed": false
   },
   "outputs": [
    {
     "data": {
      "image/png": "[encoded data removed]",
      "text/plain": [
       "<matplotlib.figure.Figure at 0x1179d7e10>"
      ]
     },
     "metadata": {},
     "output_type": "display_data"
    },
    {
     "data": {
      "image/png": "[encoded data removed]",
      "text/plain": [
       "<matplotlib.figure.Figure at 0x1179b9890>"
      ]
     },
     "metadata": {},
     "output_type": "display_data"
    }
   ],
   "source": [
    "plt.figure()\n",
    "plt.scatter(range(0,50), y_test[0:50])\n",
    "plt.ylabel('Type of Data')\n",
    "plt.xlabel('Sample Number')\n",
    "plt.title('Actual Data Type')\n",
    "plt.show()\n",
    "\n",
    "plt.figure()\n",
    "plt.scatter(range(0,50), pred[0:50], c='r')\n",
    "plt.ylabel('Type of Data')\n",
    "plt.xlabel('Sample Number')\n",
    "plt.title('XGBoost Model Predictions')\n",
    "plt.show()"
   ]
  },
  {
   "cell_type": "code",
   "execution_count": 159,
   "metadata": {
    "collapsed": false
   },
   "outputs": [
    {
     "data": {
      "text/plain": [
       "XGBClassifier(base_score=0.5, colsample_bylevel=1, colsample_bytree=1,\n",
       "       gamma=0, learning_rate=0.1, max_delta_step=0, max_depth=3,\n",
       "       min_child_weight=1, missing=None, n_estimators=100, nthread=-1,\n",
       "       objective='binary:logistic', reg_alpha=0, reg_lambda=1,\n",
       "       scale_pos_weight=1, seed=0, silent=True, subsample=1)"
      ]
     },
     "execution_count": 159,
     "metadata": {},
     "output_type": "execute_result"
    }
   ],
   "source": [
    "xgbmodel"
   ]
  },
  {
   "cell_type": "code",
   "execution_count": null,
   "metadata": {
    "collapsed": true
   },
   "outputs": [],
   "source": []
  }
 ],
 "metadata": {
  "anaconda-cloud": {},
  "kernelspec": {
   "display_name": "Python [default]",
   "language": "python",
   "name": "python2"
  },
  "language_info": {
   "codemirror_mode": {
    "name": "ipython",
    "version": 2
   },
   "file_extension": ".py",
   "mimetype": "text/x-python",
   "name": "python",
   "nbconvert_exporter": "python",
   "pygments_lexer": "ipython2",
   "version": "2.7.12"
  }
 },
 "nbformat": 4,
 "nbformat_minor": 1
}
